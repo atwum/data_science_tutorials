{
 "cells": [
  {
   "cell_type": "code",
   "execution_count": 23,
   "metadata": {},
   "outputs": [],
   "source": [
    "def letter(grade):\n",
    "  ret = 'N/A'\n",
    "  if grade >= 0 and grade < 50:\n",
    "    ret = \"F\"\n",
    "  if grade >= 50 and grade < 80:\n",
    "    ret = \"C\"\n",
    "  if grade >= 80 and grade <101:\n",
    "    ret = \"A\"\n",
    "  return ret \n",
    "  \n",
    "class GradeBook():\n",
    "\n",
    "  def __init__(self):\n",
    "    self.gb = {}\n",
    "\n",
    "#grading method, could be its own function as above\n",
    "  def letter(self,grade):\n",
    "    ret = 'N/A'\n",
    "    if grade >= 0 and grade < 50:\n",
    "      ret = \"F\"\n",
    "    if grade >= 50 and grade < 80:\n",
    "      ret = \"C\"\n",
    "    if grade >= 80 and grade <101:\n",
    "      ret = \"A\"\n",
    "    return ret \n",
    "\n",
    "#file access methods\n",
    "  def load(self,fileName):\n",
    "    #load a gradebook from a file into memory\n",
    "    #each line should have a name and score\n",
    "    #lines with invalid data or which are for existing students are ignored.\n",
    "    st = open(fileName)\n",
    "    for line in st:\n",
    "      student = line.split()\n",
    "      self.gb[student[0]]=student[1]\n",
    "    st.close()\n",
    "\n",
    "  def store(self,fileName):\n",
    "    st = open(fileName,\"w\")\n",
    "    for name in self.gb.keys():\n",
    "      st.write(name+\" \"+self.gb[name]+\"\\n\")\n",
    "    st.close()\n",
    "\n",
    "#memory resident methods\n",
    "  def update(self,userName,score):\n",
    "    #change the score for the user--if the user does not exist, add\n",
    "    self.gb[userName]=str(score)\n",
    "\n",
    "  def delete(self,userName):\n",
    "    #remove the given user\n",
    "    self.gb.pop(userName,0)\n",
    "  \n",
    "  def display(self):\n",
    "    for student in self.gb.keys():\n",
    "      print(student,self.gb[student],self.letter(int(self.gb[student])))"
   ]
  },
  {
   "cell_type": "code",
   "execution_count": 27,
   "metadata": {},
   "outputs": [],
   "source": [
    "gb=GradeBook()"
   ]
  },
  {
   "cell_type": "code",
   "execution_count": 26,
   "metadata": {},
   "outputs": [
    {
     "name": "stdout",
     "output_type": "stream",
     "text": [
      "<__main__.GradeByk object at 0x7fd2a85fce50>\n"
     ]
    }
   ],
   "source": [
    "print (gb)"
   ]
  },
  {
   "cell_type": "code",
   "execution_count": 12,
   "metadata": {},
   "outputs": [],
   "source": [
    "gb.display()\n"
   ]
  },
  {
   "cell_type": "code",
   "execution_count": null,
   "metadata": {},
   "outputs": [],
   "source": [
    "gb.load()"
   ]
  },
  {
   "cell_type": "code",
   "execution_count": null,
   "metadata": {},
   "outputs": [],
   "source": [
    "from gradebook import GradeBook\n",
    "\n",
    "gb=GradeBook()\n",
    "gb.load(\"scores.txt\")\n",
    "print(\"before\")\n",
    "gb.display()\n",
    "print()\n",
    "gb.update(\"Gary\", 77)\n",
    "gb.update(\"Heidi\", 68)\n",
    "gb.update(\"Andy\", 88)\n",
    "print(\"after\")\n",
    "gb.display()\n",
    "gb.store(\"newscores.txt\")\n"
   ]
  },
  {
   "cell_type": "code",
   "execution_count": 8,
   "metadata": {},
   "outputs": [
    {
     "ename": "ImportError",
     "evalue": "cannot import name 'GradeBook' from 'gradebook' (/Users/developer/Documents/GitHub/data_science_tutorials/gradebook.py)",
     "output_type": "error",
     "traceback": [
      "\u001b[0;31m---------------------------------------------------------------------------\u001b[0m",
      "\u001b[0;31mImportError\u001b[0m                               Traceback (most recent call last)",
      "\u001b[0;32m<ipython-input-8-9e0536c66c80>\u001b[0m in \u001b[0;36m<module>\u001b[0;34m\u001b[0m\n\u001b[0;32m----> 1\u001b[0;31m \u001b[0;32mfrom\u001b[0m \u001b[0mgradebook\u001b[0m \u001b[0;32mimport\u001b[0m \u001b[0mGradeBook\u001b[0m\u001b[0;34m\u001b[0m\u001b[0;34m\u001b[0m\u001b[0m\n\u001b[0m",
      "\u001b[0;31mImportError\u001b[0m: cannot import name 'GradeBook' from 'gradebook' (/Users/developer/Documents/GitHub/data_science_tutorials/gradebook.py)"
     ]
    }
   ],
   "source": []
  },
  {
   "cell_type": "code",
   "execution_count": 20,
   "metadata": {},
   "outputs": [],
   "source": [
    "a = ('bye')"
   ]
  },
  {
   "cell_type": "code",
   "execution_count": 21,
   "metadata": {},
   "outputs": [
    {
     "name": "stdout",
     "output_type": "stream",
     "text": [
      "bye\n"
     ]
    }
   ],
   "source": [
    "print (a)"
   ]
  },
  {
   "cell_type": "code",
   "execution_count": 22,
   "metadata": {},
   "outputs": [
    {
     "name": "stdout",
     "output_type": "stream",
     "text": [
      "bye\n"
     ]
    }
   ],
   "source": [
    "print (a)"
   ]
  },
  {
   "cell_type": "code",
   "execution_count": null,
   "metadata": {},
   "outputs": [],
   "source": []
  },
  {
   "cell_type": "code",
   "execution_count": null,
   "metadata": {},
   "outputs": [],
   "source": []
  },
  {
   "cell_type": "code",
   "execution_count": null,
   "metadata": {},
   "outputs": [],
   "source": []
  },
  {
   "cell_type": "code",
   "execution_count": null,
   "metadata": {},
   "outputs": [],
   "source": []
  },
  {
   "cell_type": "code",
   "execution_count": null,
   "metadata": {},
   "outputs": [],
   "source": []
  },
  {
   "cell_type": "code",
   "execution_count": null,
   "metadata": {},
   "outputs": [],
   "source": []
  },
  {
   "cell_type": "code",
   "execution_count": null,
   "metadata": {},
   "outputs": [],
   "source": []
  }
 ],
 "metadata": {
  "kernelspec": {
   "display_name": "Python 3",
   "language": "python",
   "name": "python3"
  },
  "language_info": {
   "codemirror_mode": {
    "name": "ipython",
    "version": 3
   },
   "file_extension": ".py",
   "mimetype": "text/x-python",
   "name": "python",
   "nbconvert_exporter": "python",
   "pygments_lexer": "ipython3",
   "version": "3.7.6"
  }
 },
 "nbformat": 4,
 "nbformat_minor": 4
}
