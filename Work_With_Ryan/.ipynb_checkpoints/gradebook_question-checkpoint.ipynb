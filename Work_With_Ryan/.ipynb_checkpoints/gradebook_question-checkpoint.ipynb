{
 "cells": [
  {
   "cell_type": "markdown",
   "metadata": {},
   "source": [
    "## Hi Ryan, \n",
    "I spent some time after our conversation and decided to begin this document. While this was initially a way for me to keep track of my thoughts, I figured I would take you along my thinking process. Along the way I will explain what each method does so you know just enough about the code to generate a solution. "
   ]
  },
  {
   "cell_type": "markdown",
   "metadata": {},
   "source": [
    "<b>Main Task </b> : Follow the directions below to <b style=\"color: #ff0000\"> modify </b> the program and <b>remove the SOLID violations.</b>"
   ]
  },
  {
   "cell_type": "markdown",
   "metadata": {},
   "source": [
    " <b>Problem 1: Single Responsibility and Open/Closed principles <b/>"
   ]
  },
  {
   "cell_type": "code",
   "execution_count": null,
   "metadata": {},
   "outputs": [],
   "source": []
  },
  {
   "cell_type": "markdown",
   "metadata": {},
   "source": [
    "SOLID lab, part 1\n",
    "In this lab you will be presented with 2 functioning Python programs. The first program violates the Single Responsibility and Open/Closed principles. The second violates the Liskov Substitution principle. Follow the directions below to modify the program and remove the SOLID violations.\n",
    "For checkoff, you will demonstrate that your versions of each of the programs functions correctly and no longer violates the SOLID principle. You may be asked how the violation was removed and why that principle is important, so make sure you are conversant with the SOLID principles before lab.\n",
    " \n",
    "Single responsibility & Open/closed\n",
    "https://repl.it/@rock/AbleElderlyKnowledge-1#main.py \n",
    "In this project a single gradebook class is responsible for updating grades, loading from/saving to a file, and calculating the letter grade. This violates the single responsibility principle. In my solution I create 2 separate classes for memory resident updates and file access, and a function for applying the grading scale.\n",
    "The Python documentation on files is here: https://docs.python.org/3/tutorial/inputoutput.html#reading-and-writing-files \n",
    "The grading scale has another problem, any time the scale needs to be modified I must modify the class, violating open/closed. This can be solved by using a list of tuples of the form (start, end, letter). When a grading scale object is initialized this list is provided, and rather than an if-elif block to pick the letter grade, we write a loop to check the intervals. The first matching interval returns its letter grade.\n",
    "Liskov substitution\n",
    "https://repl.it/@rock/AnnualMixedDeveloper#main.py \n",
    "This is the canonical example for Liskov substitution. A Square class is derived from Rectangle. All of Rectangle's methods are either used by Square or overridden to make sense for Square. The mutators for square need to update both length and width, since that is the defining property of a square. However, doing this violates a somewhat esoteric invariant of Rectangles: in a Rectangle, if you double the length, the area is doubled. In a Square, if you double the length, the area is quadrupled.\n",
    "How can we get code reuse (primarily from area) without using inheritance?\n",
    "Have a Square use it's own init, with setSide and getSide. But instead of a side length for its datamember, have each Square contain a Rectangle. Changing a side will cause both the length and width of the inner rectangle to change, and Square can just return its rectangle's area as its own. Since square is not derived from rectangle, the fact that it quadruples area when side length is doubled does not violate Liskov substitution."
   ]
  },
  {
   "cell_type": "code",
   "execution_count": null,
   "metadata": {},
   "outputs": [],
   "source": [
    "gb=GradeBook()"
   ]
  },
  {
   "cell_type": "code",
   "execution_count": 3,
   "metadata": {},
   "outputs": [],
   "source": [
    "# -------------------------------## -------------------------------#\n",
    "# -------------------------------## -------------------------------#\n",
    "# CLASS FOR FILE ACCESS METHODS\n",
    "class FileAccess():\n",
    "    #file access methods\n",
    "    def __init__(self):\n",
    "        self.gb = GradeBook()\n",
    "    \n",
    "    def load(self,fileName):\n",
    "    #load a gradebook from a file into memory\n",
    "    #each line should have a name and score\n",
    "    #lines with invalid data or which are for existing students are ignored.\n",
    "        st = open(fileName)\n",
    "        return self\n",
    "        \n",
    "        for line in st:\n",
    "            student = line.split()\n",
    "            self.gb[student[0]]=student[1]\n",
    "            st.close()\n",
    "\n",
    "    def store(self,fileName):\n",
    "        st = open(fileName,\"w\")\n",
    "        for name in self.gb.keys():\n",
    "            st.write(name+\" \"+self.gb[name]+\"\\n\")\n",
    "        st.close()\n",
    "    \n",
    "    \n",
    "  \n",
    "# -------------------------------## -------------------------------#\n",
    "class GradeBook():\n",
    "    def __init__(self):\n",
    "        self.gb = {}\n",
    "\n",
    "    #grading method, could be its own function as above\n",
    "    def letter(self,grade):\n",
    "        ret = 'N/A'\n",
    "        if grade >= 0 and grade < 50:\n",
    "            ret = \"F\"\n",
    "        if grade >= 50 and grade < 80:\n",
    "            ret = \"C\"\n",
    "        if grade >= 80 and grade <101:\n",
    "            ret = \"A\"\n",
    "        return ret \n",
    "\n",
    "\n",
    "\n",
    "    #memory resident methods\n",
    "    def update(self,userName,score):\n",
    "        #change the score for the user--if the user does not exist, add\n",
    "        self.gb[userName]=str(score)\n",
    "\n",
    "    def delete(self,userName):\n",
    "        #remove the given user\n",
    "        self.gb.pop(userName,0)\n",
    "  \n",
    "    def display(self):\n",
    "        for student in self.gb.keys():\n",
    "            print(student,self.gb[student],self.letter(int(self.gb[student])))"
   ]
  },
  {
   "cell_type": "code",
   "execution_count": null,
   "metadata": {},
   "outputs": [],
   "source": []
  }
 ],
 "metadata": {
  "kernelspec": {
   "display_name": "Python 3",
   "language": "python",
   "name": "python3"
  },
  "language_info": {
   "codemirror_mode": {
    "name": "ipython",
    "version": 3
   },
   "file_extension": ".py",
   "mimetype": "text/x-python",
   "name": "python",
   "nbconvert_exporter": "python",
   "pygments_lexer": "ipython3",
   "version": "3.7.6"
  }
 },
 "nbformat": 4,
 "nbformat_minor": 4
}
