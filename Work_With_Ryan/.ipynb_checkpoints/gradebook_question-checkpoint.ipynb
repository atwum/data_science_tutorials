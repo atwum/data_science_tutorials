{
 "cells": [
  {
   "cell_type": "markdown",
   "metadata": {},
   "source": [
    "## Hi Ryan, \n",
    "I spent some time after our conversation and decided to begin this document. While this was initially a way for me to keep track of my thoughts, I figured I would take you along my thinking process. Along the way I will explain what each method does so you know just enough about the code to generate a solution. \n",
    "\n",
    "<b>Main Task </b> : Follow the directions below to <b style=\"color: #ff0000\"> modify </b> the program and <b style=\"color: #ff0000\">remove the SOLID violations.</b>"
   ]
  },
  {
   "cell_type": "markdown",
   "metadata": {},
   "source": [
    "First, we will review what the <b>SOLID Principles</b> mean since our task is to fix the violations. \n",
    "\n",
    "<!-- ><p><stro><p><strong> S - Single Responsibility :</strong></p> \n",
    "        <strong>What it says:</strong> A class should have only one reason to change.\n",
    "        <strong>What it means:/<strong>\n",
    "<p><strong>O - Open/Closed Principle</strong></p>\n",
    "<p><strong>L - Liskov Substitution Principle</strong></p>\n",
    "<p><strong>I - Interface Segregation Principle</strong></p>\n",
    "\n",
    "ng>D - Dependency Inversion Principle</strong></p> -->"
   ]
  },
  {
   "cell_type": "markdown",
   "metadata": {},
   "source": [
    "## <b>Problem 1: Single Responsibility and Open/Closed principles <b/>"
   ]
  },
  {
   "cell_type": "markdown",
   "metadata": {},
   "source": [
    "<strong>What it says:</strong> \n",
    "* <strong style=\"color:blue\">S</strong> - A class should have only one reason to change.\n",
    "* <strong style=\"color:blue\">O</strong> - Software entities (classes, modules, functions, etc.) should be open for extension, but closed for modification."
   ]
  },
  {
   "cell_type": "markdown",
   "metadata": {},
   "source": [
    "<strong>What it means: </strong>  S : Its generally good to make sure that the each class has one main job to do. Each job or class can have multiple lines of code but generally should be performing one action. \n",
    "\n",
    "* one Class --------> one action   <strong style=\"color: green\">IDEAL</strong>\n",
    "    \n",
    "* one action <-------- one Class --------> another action <strong style=\"color: #ff0000\">NOT IDEAL</strong>\n",
    "\n",
    "\n",
    "O: write your code in a way such that you do have not to make modifications to the class code when you want to make changes For example, changes to variables, ranges, etc.\n",
    "    "
   ]
  },
  {
   "cell_type": "markdown",
   "metadata": {},
   "source": [
    "Examples of violations:"
   ]
  },
  {
   "cell_type": "markdown",
   "metadata": {},
   "source": [
    "        click to view\n",
    "<!-- ```python \n",
    "# Example 1.\n",
    "class aJob():\n",
    "    # my job is to do the one job i have to do. \n",
    "    my_job = [] # eg. fill entires in major database \n",
    "    # ... \n",
    "    am_I_in_violation = \"False\"\n",
    "    print(\" Am I in Violation? Answer = \",am_I_in_violation)\n",
    "   \n",
    "```\n",
    "    Output: Am I in Violation? Answer = False\n",
    "    -->\n",
    "  "
   ]
  },
  {
   "cell_type": "markdown",
   "metadata": {},
   "source": [
    "        click to view\n",
    "<!--\n",
    "```python \n",
    "# Example 2.\n",
    " class aJob():\n",
    "            # my job is to do the one job i have to do. \n",
    "            my_job = [] # eg. fill entires in major database \n",
    "            # ...\n",
    "            # but I also count entries and edit another database \n",
    "            my_other_job = \"a violation\"\n",
    "            \n",
    "            if my_other_job = \"a violation\":\n",
    "                am_I_in_violation = \"True\"\n",
    "                \n",
    "            print(\" Am I in Violation? Answer = \",am_I_in_violation)\n",
    "                \n",
    "               ```\n",
    "                  Output:Am I in Violation? Answer = TRUE-->"
   ]
  },
  {
   "cell_type": "markdown",
   "metadata": {},
   "source": [
    "### Lets take a look at your question again: PART 1"
   ]
  },
  {
   "cell_type": "markdown",
   "metadata": {},
   "source": [
    "<img src = \"img_01.png \" />\n"
   ]
  },
  {
   "cell_type": "markdown",
   "metadata": {},
   "source": [
    "### Takeaway 1 : make sure the classes you write perform only one major task. "
   ]
  },
  {
   "cell_type": "markdown",
   "metadata": {},
   "source": [
    "<img src = \"img_02.png \" />"
   ]
  },
  {
   "cell_type": "markdown",
   "metadata": {},
   "source": [
    "### Takeaway 2 : your professor did a marvelous job showing just how confusing badly written code can be. In future assignments he's gonna try to throw another curve ball so when reading code look out for ways the question might be tricky. "
   ]
  },
  {
   "cell_type": "markdown",
   "metadata": {},
   "source": [
    "<img src = \"img_03.png \" />\n",
    "<img src = \"img_04.png \" />"
   ]
  },
  {
   "cell_type": "markdown",
   "metadata": {},
   "source": [
    "### Takeaway 3: you need to change how the function letter(grade) is written. Here is an example\n",
    "\n",
    "```python\n",
    "        my_tuple = ((0,49,\"F\"),(50,79,\"C\"),(80,100,\"A\"))\n",
    "    \n",
    "        def letter(grade):\n",
    "            for i in my_tuple():\n",
    "                #... \n",
    "             \n",
    "\n",
    "```"
   ]
  },
  {
   "cell_type": "markdown",
   "metadata": {},
   "source": [
    "### Solution 1: Using a simple tuple declared in the code"
   ]
  },
  {
   "cell_type": "code",
   "execution_count": 61,
   "metadata": {},
   "outputs": [],
   "source": [
    "my_tuple = ((0,50,\"F\"),(50,80,\"C\"),(80,100,\"A\"))"
   ]
  },
  {
   "cell_type": "code",
   "execution_count": 74,
   "metadata": {},
   "outputs": [
    {
     "name": "stdout",
     "output_type": "stream",
     "text": [
      "start =  0 end =  50 letter = F\n",
      "start =  50 end =  80 letter = C\n",
      "start =  80 end =  100 letter = A\n"
     ]
    }
   ],
   "source": [
    "for i in my_tuple:\n",
    "    start = i[0] ; end = i[1] ;letter = i[2]\n",
    "    print (\"start = \",i[0],\"end = \", i[1],\"letter =\",i[2])"
   ]
  },
  {
   "cell_type": "code",
   "execution_count": 119,
   "metadata": {},
   "outputs": [],
   "source": [
    "# Write a function that assigns a letter grade (A, B, C...)\n",
    "# based on the specific score (99%, 0% or 50%)\n",
    "\n",
    "def letter(grade): # declaring my function\n",
    "    letter_grade ='N/A'# this means return N/A if no grade is assigned\n",
    "    for i in my_tuple:\n",
    "        start = i[0] ; end = i[1] ;letter = i[2]\n",
    "        if grade >= start and grade < end:\n",
    "            letter_grade = letter # he calls this ret in his code\n",
    "    return letter_grade # returns a letter grade"
   ]
  },
  {
   "cell_type": "code",
   "execution_count": 80,
   "metadata": {},
   "outputs": [
    {
     "name": "stdout",
     "output_type": "stream",
     "text": [
      "loading ...\n",
      "Test: What is the letter grade for a score that = 0\n",
      "Answer: This is a letter grade = F\n",
      "loading ...\n",
      "Test: What is the letter grade for a score that = 50\n",
      "Answer: This is a letter grade = C\n",
      "loading ...\n",
      "Test: What is the letter grade for a score that = 80\n",
      "Answer: This is a letter grade = A\n",
      "loading ...\n",
      "Test: What is the letter grade for a score that = 99\n",
      "Answer: This is a letter grade = A\n",
      "loading ...\n",
      "Test: What is the letter grade for a score that = 100\n",
      "Answer: This is a letter grade = N/A\n",
      "loading ...\n",
      "Test: What is the letter grade for a score that = 150\n",
      "Answer: This is a letter grade = N/A\n",
      "loading ...\n",
      "Test: What is the letter grade for a score that = 101\n",
      "Answer: This is a letter grade = N/A\n",
      "loading ...\n",
      "Test: What is the letter grade for a score that = -1\n",
      "Answer: This is a letter grade = N/A\n"
     ]
    }
   ],
   "source": [
    "grades = [0,50,80,99,100,150,101,-1] \n",
    "for i in grades:\n",
    "    grade = i\n",
    "    print(\"loading ...\")\n",
    "    print(\"Test: What is the letter grade for a score that = %s\" %grade)\n",
    "    print(\"Answer: This is a letter grade = %s\" %letter(grade))\n",
    "\n"
   ]
  },
  {
   "cell_type": "markdown",
   "metadata": {},
   "source": [
    "### Solution 2: Writing the AccessFile Class"
   ]
  },
  {
   "cell_type": "markdown",
   "metadata": {},
   "source": [
    "Below is the initial code showing only the functions \n",
    "```python \n",
    "class GradeBook():\n",
    "    def __init__(self):\n",
    "        self.gb = {}\n",
    "\n",
    "    #grading method, could be its own function as above\n",
    "    def letter(self,grade):\n",
    "    #file access methods\n",
    "    def load(self,fileName):\n",
    "    def store(self,fileName):\n",
    "    #memory resident methods\n",
    "    def update(self,userName,score):\n",
    "    def delete(self,userName):\n",
    "    def display(self):\n",
    "        ```\n",
    "Since this class is doing way more than one job we should separate the class into multiple classes.\n",
    "\n",
    "```python\n",
    "class GradeBook():\n",
    "    def __init__(self):\n",
    "        self.gb = {}\n",
    "class AccessFile():\n",
    "    #file access methods\n",
    "    \n",
    "class MemoryResident():\n",
    "    #memory resident methods\n",
    "   ```\n",
    "    "
   ]
  },
  {
   "cell_type": "markdown",
   "metadata": {},
   "source": [
    " <b>Step 1:</b> Writing a simple class that loads an entire file"
   ]
  },
  {
   "cell_type": "code",
   "execution_count": 208,
   "metadata": {},
   "outputs": [
    {
     "name": "stdout",
     "output_type": "stream",
     "text": [
      "Loading entire file named newscores.txt\n"
     ]
    }
   ],
   "source": [
    "class AccessFile():\n",
    "    def __init__(self, fileName):\n",
    "        self.fileName = fileName\n",
    "    \n",
    "    def load(self):\n",
    "        print(\"Loading entire file named \" + self.fileName)\n",
    "        f = open(self.fileName)# reading file mode r assumed by default\n",
    "        data = f.read()\n",
    "#         print (data)\n",
    "        f.close()\n",
    "f1 = AccessFile('newscores.txt')  #creates object\n",
    "f1.load()"
   ]
  },
  {
   "cell_type": "markdown",
   "metadata": {},
   "source": [
    " <b>Step 2:</b> A Class that extracts data from a file and prints out separte lists\n",
    " ```python\n",
    "for line in f:\n",
    "    \n",
    "    ```\n",
    "* What this does: This reads each line in our file. So `'Andy 88'` is one string\n",
    "    \n",
    "```python    \n",
    "student = line.split()\n",
    "    ```\n",
    "* What this does: this takes the string 'Andy 88' and creates a `list[ ]` of strings `'Andy'` and `'88'`\n",
    "            "
   ]
  },
  {
   "cell_type": "code",
   "execution_count": 212,
   "metadata": {},
   "outputs": [
    {
     "name": "stdout",
     "output_type": "stream",
     "text": [
      "Loading each line in separately in newscores.txt\n",
      "line =  Heidi 68\n",
      " student =  ['Heidi', '68']\n",
      "student[0]= Heidi student[1]= 68\n"
     ]
    }
   ],
   "source": [
    "class AccessFile():\n",
    "    def __init__(self, fileName):\n",
    "        self.fileName = fileName\n",
    "    \n",
    "    def load(self):\n",
    "        print(\"Loading each line in separately in \" + self.fileName)\n",
    "        f = open(self.fileName)# reading file mode r assumed by default\n",
    "        for line in f:\n",
    "            student = line.split()\n",
    "#             print ('line = ',line , 'student = ',student ) \n",
    "#             print ('student[0]=',student[0],'student[1]=',student[1])\n",
    "        print ('line = ',line , 'student = ',student ) \n",
    "        print ('student[0]=',student[0],'student[1]=',student[1])\n",
    "                \n",
    "        f.close()\n",
    "f1 = AccessFile('newscores.txt')\n",
    "f1.load()\n"
   ]
  },
  {
   "cell_type": "markdown",
   "metadata": {},
   "source": [
    " <b>Step 3:</b> A class that accesses a file and create a replica of that data in a gradebook"
   ]
  },
  {
   "cell_type": "code",
   "execution_count": 215,
   "metadata": {},
   "outputs": [
    {
     "name": "stdout",
     "output_type": "stream",
     "text": [
      "gb is <class 'dict'> and contains {}\n"
     ]
    }
   ],
   "source": [
    "gb = {} ; print ('gb is',type(gb),'and contains', gb)"
   ]
  },
  {
   "cell_type": "code",
   "execution_count": 222,
   "metadata": {},
   "outputs": [
    {
     "name": "stdout",
     "output_type": "stream",
     "text": [
      "dict_keys([]) dict_values([])\n",
      "This means we have empty keys and values\n"
     ]
    }
   ],
   "source": [
    "print (gb.keys(),gb.values())\n",
    "print('This means we have empty keys and values') ;"
   ]
  },
  {
   "cell_type": "code",
   "execution_count": 265,
   "metadata": {},
   "outputs": [
    {
     "name": "stdout",
     "output_type": "stream",
     "text": [
      "created empty <class 'dict'> which contains {}\n",
      ".......declaring my class AccessFile\n",
      "Name of file = scores.txt\n",
      "Loading each line and saving in gb \n",
      "gb =  {'Andy': '78'}\n",
      "Loading each line and saving in gb \n",
      "gb =  {'Andy': '78', 'Brenda': '96'}\n",
      "Loading each line and saving in gb \n",
      "gb =  {'Andy': '78', 'Brenda': '96', 'Carl': '87'}\n",
      "Loading each line and saving in gb \n",
      "gb =  {'Andy': '78', 'Brenda': '96', 'Carl': '87', 'Donna': '71'}\n",
      "Loading each line and saving in gb \n",
      "gb =  {'Andy': '78', 'Brenda': '96', 'Carl': '87', 'Donna': '71', 'Ernest': '26'}\n",
      "Loading each line and saving in gb \n",
      "gb =  {'Andy': '78', 'Brenda': '96', 'Carl': '87', 'Donna': '71', 'Ernest': '26', 'Faith': '98'}\n"
     ]
    }
   ],
   "source": [
    "gb = {}; print ('created empty' ,type(gb),'which contains', gb)\n",
    "\n",
    "print('.......declaring my class AccessFile')\n",
    "\n",
    "class AccessFile():\n",
    "    def __init__(self, fileName):\n",
    "        self.fileName = fileName\n",
    "    \n",
    "    def load(self):\n",
    "        print(\"Name of file = \" + self.fileName)\n",
    "        f = open(self.fileName)# reading file mode r assumed by default\n",
    "        for line in f:\n",
    "            student = line.split()\n",
    "            print(\"Loading each line and saving in gb \")\n",
    "            gb[student[0]]=student[1]\n",
    "            print(\"gb = \",gb)    \n",
    "        f.close()\n",
    "#-----------------------------#  \n",
    "#-----------------------------#\n",
    "f1 = AccessFile('scores.txt')\n",
    "f1.load()\n",
    "\n",
    "# print ('NOW ...gb of',type(gb),' contains', gb)"
   ]
  },
  {
   "cell_type": "markdown",
   "metadata": {},
   "source": [
    "<b>Step 4:</b> Finalizing the `AccessFile class`\n",
    "\n",
    "<b>Note 1:</b>\n",
    "```python \n",
    "def store ():\n",
    "    ```\n",
    "What we want it to do is store the data from scores.txt in to our empty dictionary so we can change it if we want.\n",
    " \n",
    "<b>Note 2:</b>\n",
    "```python \n",
    "st = open(fileName,\"w\") ```\n",
    " \n",
    " This `'w'` means for only writing (so an existing file with the same name will be erased)\n",
    "\n",
    "<b>Note 3:</b>\n",
    "\n",
    " ```python\n",
    " for name in self.gb.keys(): ```\n",
    "Like I mentioned above `gb = {} `is empty and `gb.keys()` is empty too\n",
    "```python\n",
    "      st.write(name+\" \"+self.gb[name]+\"\\n\")```\n",
    "\n",
    "\n",
    "      "
   ]
  },
  {
   "cell_type": "code",
   "execution_count": 274,
   "metadata": {},
   "outputs": [
    {
     "name": "stdout",
     "output_type": "stream",
     "text": [
      "created empty <class 'dict'> which contains {}\n",
      ".......declaring my class AccessFile\n",
      "Name of file = scores.txt\n",
      "Loading each line and saving in gb \n",
      "gb =  {'Andy': '78'}\n",
      "Loading each line and saving in gb \n",
      "gb =  {'Andy': '78', 'Brenda': '96'}\n",
      "Loading each line and saving in gb \n",
      "gb =  {'Andy': '78', 'Brenda': '96', 'Carl': '87'}\n",
      "Loading each line and saving in gb \n",
      "gb =  {'Andy': '78', 'Brenda': '96', 'Carl': '87', 'Donna': '71'}\n",
      "Loading each line and saving in gb \n",
      "gb =  {'Andy': '78', 'Brenda': '96', 'Carl': '87', 'Donna': '71', 'Ernest': '26'}\n",
      "Loading each line and saving in gb \n",
      "gb =  {'Andy': '78', 'Brenda': '96', 'Carl': '87', 'Donna': '71', 'Ernest': '26', 'Faith': '98'}\n"
     ]
    }
   ],
   "source": [
    "gb = {}; print ('created empty' ,type(gb),'which contains', gb)\n",
    "\n",
    "print('.......declaring my class AccessFile')\n",
    "\n",
    "class AccessFile():\n",
    "    def __init__(self, fileName):\n",
    "        self.fileName = fileName\n",
    "    \n",
    "    def load(self):\n",
    "        print(\"Name of file = \" + self.fileName)\n",
    "        f = open(self.fileName)# reading file mode r assumed by default\n",
    "        for line in f:\n",
    "            student = line.split()\n",
    "            print(\"Loading each line and saving in gb \")\n",
    "            gb[student[0]]=student[1]\n",
    "            print(\"gb = \",gb)    \n",
    "        f.close()\n",
    "    def store(self,newFileName):\n",
    "        # code take in a new filename and writes nexfile with entire in gradbook\n",
    "        f = open(newFileName,\"w\") #'w' for only writing (an existing file with the same name will be erased)\n",
    "        for name in gb.keys(): #fills the empth gradeboo with a key\n",
    "            f.write(name+\" \"+gb[name]+\"\\n\")\n",
    "        f.close()\n",
    "#-----------------------------#  \n",
    "#-----------------------------#\n",
    "f1 = AccessFile('scores.txt')\n",
    "f1.load()\n",
    "f1.store('newscores.txt')"
   ]
  },
  {
   "cell_type": "markdown",
   "metadata": {},
   "source": [
    "### Solution 3: Writing the MemoryResident Class"
   ]
  },
  {
   "cell_type": "markdown",
   "metadata": {},
   "source": [
    "Below is the initial code showing only the memory resident functions \n",
    "```python \n",
    "    #memory resident methods\n",
    "    def update(self,userName,score):\n",
    "    def delete(self,userName):\n",
    "    def display(self):\n",
    "        ```\n",
    "```python\n",
    "class MemoryResident():\n",
    "    #memory resident methods\n",
    "   ```\n",
    "    "
   ]
  },
  {
   "cell_type": "code",
   "execution_count": 277,
   "metadata": {},
   "outputs": [],
   "source": [
    "class MemoryResident():\n",
    "    def __init__(self,userName,score):\n",
    "        self.userName =userName\n",
    "        self.score = score\n",
    "    def update(self,userName,score):\n",
    "    #change the score for the user--if the user does not exist, add        gb[userName]=str(score)\n",
    "        gb[userName]=str(score)\n",
    "\n",
    "    def delete(self,userName):\n",
    "        #remove the given user\n",
    "        gb.pop(userName,0)\n",
    "  \n",
    "    def display(self):\n",
    "        for student in gb.keys():\n",
    "            print(student,gb[student],self.letter(int(self.gb[student])))"
   ]
  },
  {
   "cell_type": "markdown",
   "metadata": {},
   "source": [
    "## FINAL SOLUTION : adding all the major parts together"
   ]
  },
  {
   "cell_type": "code",
   "execution_count": 362,
   "metadata": {},
   "outputs": [],
   "source": [
    "def letter(grade): # declaring my function\n",
    "    letter_grade ='N/A'# this means return N/A if no grade is assigned\n",
    "    for i in my_tuple:\n",
    "        start = i[0] ; end = i[1] ;letter = i[2]\n",
    "        if grade >= start and grade < end:\n",
    "            letter_grade = letter # he calls this ret in his code\n",
    "    return letter_grade # returns a letter grade\n",
    "\n",
    "class GradeBook():\n",
    "    def __init__(self):\n",
    "        self.gb = {} \n",
    "        self.MemoryResident()\n",
    "        \n",
    "\n",
    "    def load(self,fileName):\n",
    "        self.fileName =fileName\n",
    "        print(\"Name of file = \" + self.fileName)\n",
    "        f = open(self.fileName)# reading file mode r assumed by default\n",
    "        for line in f:\n",
    "            student = line.split();print(\"Loading each line and saving in gb \")\n",
    "            self.gb[student[0]]=student[1];print(\"gb = \",self.gb)    \n",
    "        f.close()\n",
    "    def store(self,fileName):# code take in a new filename and writes nexfile with entire in gradbook\n",
    "        f = open(self.fileName,\"w\") #'w' for only writing (an existing file with the same name will be erased)\n",
    "        for name in self.gb.keys(): #fills the empth gradeboo with a key\n",
    "            f.write(name+\" \"+self.gb[name]+\"\\n\")\n",
    "        f.close()\n",
    "\n",
    "    class MemoryResident(GradeBook):\n",
    "#         def __init__(self):\n",
    "#             self.gb = Gradebook()\n",
    "        def update(self,userName,score):\n",
    "            self.gb[self.userName]=str(self.score)#change the score for the user--if the user does not exist, add        gb[userName]=str(score)\n",
    "        def delete(self,userName):\n",
    "            self.gb.pop(self.userName,0)#remove the given user\n",
    "        def display(self):\n",
    "            for student in self.gb.keys():\n",
    "                print(student,self.gb[student],self.letter(int(self.gb[student])))\n",
    "\n",
    "# class AccessFile(GradeBook):\n",
    "#     def __init__(self, fileName):\n",
    "#         self.fileName = fileName\n",
    "# #         self.gb = Gradebook()\n",
    "       \n",
    "\n",
    "    "
   ]
  },
  {
   "cell_type": "code",
   "execution_count": 363,
   "metadata": {},
   "outputs": [
    {
     "ename": "NameError",
     "evalue": "name 'Gradebook' is not defined",
     "output_type": "error",
     "traceback": [
      "\u001b[0;31m---------------------------------------------------------------------------\u001b[0m",
      "\u001b[0;31mNameError\u001b[0m                                 Traceback (most recent call last)",
      "\u001b[0;32m<ipython-input-363-f95230d635ed>\u001b[0m in \u001b[0;36m<module>\u001b[0;34m\u001b[0m\n\u001b[0;32m----> 1\u001b[0;31m \u001b[0mf\u001b[0m \u001b[0;34m=\u001b[0m \u001b[0mGradeBook\u001b[0m\u001b[0;34m(\u001b[0m\u001b[0;34m)\u001b[0m\u001b[0;34m\u001b[0m\u001b[0;34m\u001b[0m\u001b[0m\n\u001b[0m\u001b[1;32m      2\u001b[0m \u001b[0mf\u001b[0m\u001b[0;34m.\u001b[0m\u001b[0mload\u001b[0m\u001b[0;34m(\u001b[0m\u001b[0;34m\"scores.txt\"\u001b[0m\u001b[0;34m)\u001b[0m\u001b[0;34m\u001b[0m\u001b[0;34m\u001b[0m\u001b[0m\n\u001b[1;32m      3\u001b[0m \u001b[0;31m# f = AccessFile('scores.txt')\u001b[0m\u001b[0;34m\u001b[0m\u001b[0;34m\u001b[0m\u001b[0;34m\u001b[0m\u001b[0m\n\u001b[1;32m      4\u001b[0m \u001b[0mf\u001b[0m\u001b[0;34m.\u001b[0m\u001b[0mdisplay\u001b[0m\u001b[0;34m(\u001b[0m\u001b[0;34m)\u001b[0m\u001b[0;34m\u001b[0m\u001b[0;34m\u001b[0m\u001b[0m\n",
      "\u001b[0;32m<ipython-input-362-491b2d08aad2>\u001b[0m in \u001b[0;36m__init__\u001b[0;34m(self)\u001b[0m\n\u001b[1;32m     10\u001b[0m     \u001b[0;32mdef\u001b[0m \u001b[0m__init__\u001b[0m\u001b[0;34m(\u001b[0m\u001b[0mself\u001b[0m\u001b[0;34m)\u001b[0m\u001b[0;34m:\u001b[0m\u001b[0;34m\u001b[0m\u001b[0;34m\u001b[0m\u001b[0m\n\u001b[1;32m     11\u001b[0m         \u001b[0mself\u001b[0m\u001b[0;34m.\u001b[0m\u001b[0mgb\u001b[0m \u001b[0;34m=\u001b[0m \u001b[0;34m{\u001b[0m\u001b[0;34m}\u001b[0m\u001b[0;34m\u001b[0m\u001b[0;34m\u001b[0m\u001b[0m\n\u001b[0;32m---> 12\u001b[0;31m         \u001b[0mself\u001b[0m\u001b[0;34m.\u001b[0m\u001b[0mMemoryResident\u001b[0m\u001b[0;34m(\u001b[0m\u001b[0;34m)\u001b[0m\u001b[0;34m\u001b[0m\u001b[0;34m\u001b[0m\u001b[0m\n\u001b[0m\u001b[1;32m     13\u001b[0m \u001b[0;34m\u001b[0m\u001b[0m\n\u001b[1;32m     14\u001b[0m \u001b[0;34m\u001b[0m\u001b[0m\n",
      "\u001b[0;32m<ipython-input-362-491b2d08aad2>\u001b[0m in \u001b[0;36m__init__\u001b[0;34m(self)\u001b[0m\n\u001b[1;32m     29\u001b[0m     \u001b[0;32mclass\u001b[0m \u001b[0mMemoryResident\u001b[0m\u001b[0;34m(\u001b[0m\u001b[0mGradeBook\u001b[0m\u001b[0;34m)\u001b[0m\u001b[0;34m:\u001b[0m\u001b[0;34m\u001b[0m\u001b[0;34m\u001b[0m\u001b[0m\n\u001b[1;32m     30\u001b[0m         \u001b[0;32mdef\u001b[0m \u001b[0m__init__\u001b[0m\u001b[0;34m(\u001b[0m\u001b[0mself\u001b[0m\u001b[0;34m)\u001b[0m\u001b[0;34m:\u001b[0m\u001b[0;34m\u001b[0m\u001b[0;34m\u001b[0m\u001b[0m\n\u001b[0;32m---> 31\u001b[0;31m             \u001b[0mself\u001b[0m\u001b[0;34m.\u001b[0m\u001b[0mgb\u001b[0m \u001b[0;34m=\u001b[0m \u001b[0mGradebook\u001b[0m\u001b[0;34m(\u001b[0m\u001b[0;34m)\u001b[0m\u001b[0;34m\u001b[0m\u001b[0;34m\u001b[0m\u001b[0m\n\u001b[0m\u001b[1;32m     32\u001b[0m         \u001b[0;32mdef\u001b[0m \u001b[0mupdate\u001b[0m\u001b[0;34m(\u001b[0m\u001b[0mself\u001b[0m\u001b[0;34m,\u001b[0m\u001b[0muserName\u001b[0m\u001b[0;34m,\u001b[0m\u001b[0mscore\u001b[0m\u001b[0;34m)\u001b[0m\u001b[0;34m:\u001b[0m\u001b[0;34m\u001b[0m\u001b[0;34m\u001b[0m\u001b[0m\n\u001b[1;32m     33\u001b[0m             \u001b[0mself\u001b[0m\u001b[0;34m.\u001b[0m\u001b[0mgb\u001b[0m\u001b[0;34m[\u001b[0m\u001b[0mself\u001b[0m\u001b[0;34m.\u001b[0m\u001b[0muserName\u001b[0m\u001b[0;34m]\u001b[0m\u001b[0;34m=\u001b[0m\u001b[0mstr\u001b[0m\u001b[0;34m(\u001b[0m\u001b[0mself\u001b[0m\u001b[0;34m.\u001b[0m\u001b[0mscore\u001b[0m\u001b[0;34m)\u001b[0m\u001b[0;31m#change the score for the user--if the user does not exist, add        gb[userName]=str(score)\u001b[0m\u001b[0;34m\u001b[0m\u001b[0;34m\u001b[0m\u001b[0m\n",
      "\u001b[0;31mNameError\u001b[0m: name 'Gradebook' is not defined"
     ]
    }
   ],
   "source": [
    "f = GradeBook()\n",
    "f.load(\"scores.txt\")\n",
    "# f = AccessFile('scores.txt')\n",
    "f.display()\n"
   ]
  },
  {
   "cell_type": "code",
   "execution_count": 315,
   "metadata": {},
   "outputs": [
    {
     "ename": "AttributeError",
     "evalue": "'GradeBook' object has no attribute 'load'",
     "output_type": "error",
     "traceback": [
      "\u001b[0;31m---------------------------------------------------------------------------\u001b[0m",
      "\u001b[0;31mAttributeError\u001b[0m                            Traceback (most recent call last)",
      "\u001b[0;32m<ipython-input-315-8f00beedc30a>\u001b[0m in \u001b[0;36m<module>\u001b[0;34m\u001b[0m\n\u001b[1;32m      1\u001b[0m \u001b[0mgb\u001b[0m \u001b[0;34m=\u001b[0m \u001b[0mGradeBook\u001b[0m\u001b[0;34m(\u001b[0m\u001b[0;34m)\u001b[0m\u001b[0;34m\u001b[0m\u001b[0;34m\u001b[0m\u001b[0m\n\u001b[0;32m----> 2\u001b[0;31m \u001b[0mgb\u001b[0m\u001b[0;34m.\u001b[0m\u001b[0mload\u001b[0m\u001b[0;34m(\u001b[0m\u001b[0;34m\"scores.txt\"\u001b[0m\u001b[0;34m)\u001b[0m\u001b[0;34m\u001b[0m\u001b[0;34m\u001b[0m\u001b[0m\n\u001b[0m\u001b[1;32m      3\u001b[0m \u001b[0;34m\u001b[0m\u001b[0m\n\u001b[1;32m      4\u001b[0m \u001b[0;31m# myGradebook\u001b[0m\u001b[0;34m\u001b[0m\u001b[0;34m\u001b[0m\u001b[0;34m\u001b[0m\u001b[0m\n",
      "\u001b[0;31mAttributeError\u001b[0m: 'GradeBook' object has no attribute 'load'"
     ]
    }
   ],
   "source": [
    "\n",
    "# myGradebook\n"
   ]
  },
  {
   "cell_type": "code",
   "execution_count": null,
   "metadata": {},
   "outputs": [],
   "source": []
  },
  {
   "cell_type": "code",
   "execution_count": null,
   "metadata": {},
   "outputs": [],
   "source": []
  },
  {
   "cell_type": "code",
   "execution_count": null,
   "metadata": {},
   "outputs": [],
   "source": []
  },
  {
   "cell_type": "code",
   "execution_count": 280,
   "metadata": {},
   "outputs": [
    {
     "data": {
      "text/plain": [
       "['__class__',\n",
       " '__delattr__',\n",
       " '__dict__',\n",
       " '__dir__',\n",
       " '__doc__',\n",
       " '__eq__',\n",
       " '__format__',\n",
       " '__ge__',\n",
       " '__getattribute__',\n",
       " '__gt__',\n",
       " '__hash__',\n",
       " '__init__',\n",
       " '__init_subclass__',\n",
       " '__le__',\n",
       " '__lt__',\n",
       " '__module__',\n",
       " '__ne__',\n",
       " '__new__',\n",
       " '__reduce__',\n",
       " '__reduce_ex__',\n",
       " '__repr__',\n",
       " '__setattr__',\n",
       " '__sizeof__',\n",
       " '__str__',\n",
       " '__subclasshook__',\n",
       " '__weakref__',\n",
       " 'delete',\n",
       " 'display',\n",
       " 'update']"
      ]
     },
     "execution_count": 280,
     "metadata": {},
     "output_type": "execute_result"
    }
   ],
   "source": [
    "dir(MemoryResident)"
   ]
  },
  {
   "cell_type": "code",
   "execution_count": null,
   "metadata": {},
   "outputs": [],
   "source": [
    "\n"
   ]
  },
  {
   "cell_type": "markdown",
   "metadata": {},
   "source": [
    "\n",
    " \n",
    "Single responsibility & Open/closed\n",
    "https://repl.it/@rock/AbleElderlyKnowledge-1#main.py \n",
    "In this project a single gradebook class is responsible for updating grades, loading from/saving to a file, and calculating the letter grade. This violates the single responsibility principle. In my solution I create 2 separate classes for memory resident updates and file access, and a function for applying the grading scale.\n",
    "The Python documentation on files is here: https://docs.python.org/3/tutorial/inputoutput.html#reading-and-writing-files \n",
    "The grading scale has another problem, any time the scale needs to be modified I must modify the class, violating open/closed. This can be solved by using a list of tuples of the form (start, end, letter). When a grading scale object is initialized this list is provided, and rather than an if-elif block to pick the letter grade, we write a loop to check the intervals. The first matching interval returns its letter grade.\n",
    "Liskov substitution\n",
    "https://repl.it/@rock/AnnualMixedDeveloper#main.py \n",
    "This is the canonical example for Liskov substitution. A Square class is derived from Rectangle. All of Rectangle's methods are either used by Square or overridden to make sense for Square. The mutators for square need to update both length and width, since that is the defining property of a square. However, doing this violates a somewhat esoteric invariant of Rectangles: in a Rectangle, if you double the length, the area is doubled. In a Square, if you double the length, the area is quadrupled.\n",
    "How can we get code reuse (primarily from area) without using inheritance?\n",
    "Have a Square use it's own init, with setSide and getSide. But instead of a side length for its datamember, have each Square contain a Rectangle. Changing a side will cause both the length and width of the inner rectangle to change, and Square can just return its rectangle's area as its own. Since square is not derived from rectangle, the fact that it quadruples area when side length is doubled does not violate Liskov substitution."
   ]
  },
  {
   "cell_type": "code",
   "execution_count": null,
   "metadata": {},
   "outputs": [],
   "source": [
    "gb=GradeBook()"
   ]
  },
  {
   "cell_type": "code",
   "execution_count": 3,
   "metadata": {},
   "outputs": [],
   "source": [
    "# -------------------------------## -------------------------------#\n",
    "# -------------------------------## -------------------------------#\n",
    "# CLASS FOR FILE ACCESS METHODS\n",
    "class FileAccess():\n",
    "    #file access methods\n",
    "    def __init__(self):\n",
    "        self.gb = GradeBook()\n",
    "    \n",
    "    def load(self,fileName):\n",
    "    #load a gradebook from a file into memory\n",
    "    #each line should have a name and score\n",
    "    #lines with invalid data or which are for existing students are ignored.\n",
    "        st = open(fileName)\n",
    "        return self\n",
    "        \n",
    "        for line in st:\n",
    "            student = line.split()\n",
    "            self.gb[student[0]]=student[1]\n",
    "            st.close()\n",
    "\n",
    "    def store(self,fileName):\n",
    "        st = open(fileName,\"w\")\n",
    "        for name in self.gb.keys():\n",
    "            st.write(name+\" \"+self.gb[name]+\"\\n\")\n",
    "        st.close()\n",
    "    \n",
    "    \n",
    "  \n",
    "# -------------------------------## -------------------------------#\n",
    "class GradeBook():\n",
    "    def __init__(self):\n",
    "        self.gb = {}\n",
    "\n",
    "    #grading method, could be its own function as above\n",
    "    def letter(self,grade):\n",
    "        ret = 'N/A'\n",
    "        if grade >= 0 and grade < 50:\n",
    "            ret = \"F\"\n",
    "        if grade >= 50 and grade < 80:\n",
    "            ret = \"C\"\n",
    "        if grade >= 80 and grade <101:\n",
    "            ret = \"A\"\n",
    "        return ret \n",
    "\n",
    "\n",
    "\n",
    "    #memory resident methods\n",
    "    def update(self,userName,score):\n",
    "        #change the score for the user--if the user does not exist, add\n",
    "        self.gb[userName]=str(score)\n",
    "\n",
    "    def delete(self,userName):\n",
    "        #remove the given user\n",
    "        self.gb.pop(userName,0)\n",
    "  \n",
    "    def display(self):\n",
    "        for student in self.gb.keys():\n",
    "            print(student,self.gb[student],self.letter(int(self.gb[student])))"
   ]
  },
  {
   "cell_type": "code",
   "execution_count": null,
   "metadata": {},
   "outputs": [],
   "source": []
  }
 ],
 "metadata": {
  "kernelspec": {
   "display_name": "Python 3",
   "language": "python",
   "name": "python3"
  },
  "language_info": {
   "codemirror_mode": {
    "name": "ipython",
    "version": 3
   },
   "file_extension": ".py",
   "mimetype": "text/x-python",
   "name": "python",
   "nbconvert_exporter": "python",
   "pygments_lexer": "ipython3",
   "version": "3.7.6"
  }
 },
 "nbformat": 4,
 "nbformat_minor": 4
}
