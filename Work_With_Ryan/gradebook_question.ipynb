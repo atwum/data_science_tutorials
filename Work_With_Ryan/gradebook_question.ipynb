{
 "cells": [
  {
   "cell_type": "markdown",
   "metadata": {},
   "source": [
    "## Hi Ryan, \n",
    "I spent some time after our conversation and decided to begin this document. While this was initially a way for me to keep track of my thoughts, I figured I would take you along my thinking process. Along the way I will explain what each method does so you know just enough about the code to generate a solution. \n",
    "\n",
    "<b>Main Task </b> : Follow the directions below to <b style=\"color: #ff0000\"> modify </b> the program and <b style=\"color: #ff0000\">remove the SOLID violations.</b>"
   ]
  },
  {
   "cell_type": "markdown",
   "metadata": {},
   "source": [
    "First, we will review what the <b>SOLID Principles</b> mean since our task is to fix the violations. \n",
    "\n",
    "<!-- ><p><stro><p><strong> S - Single Responsibility :</strong></p> \n",
    "        <strong>What it says:</strong> A class should have only one reason to change.\n",
    "        <strong>What it means:/<strong>\n",
    "<p><strong>O - Open/Closed Principle</strong></p>\n",
    "<p><strong>L - Liskov Substitution Principle</strong></p>\n",
    "<p><strong>I - Interface Segregation Principle</strong></p>\n",
    "\n",
    "ng>D - Dependency Inversion Principle</strong></p> -->"
   ]
  },
  {
   "cell_type": "markdown",
   "metadata": {},
   "source": [
    "## <b>Problem 1: Single Responsibility and Open/Closed principles <b/>"
   ]
  },
  {
   "cell_type": "markdown",
   "metadata": {},
   "source": [
    "<strong>What it says:</strong> \n",
    "* <strong style=\"color:blue\">S</strong> - A class should have only one reason to change.\n",
    "* <strong style=\"color:blue\">O</strong> - A class should have only one reason to change."
   ]
  },
  {
   "cell_type": "markdown",
   "metadata": {},
   "source": [
    "<strong>What it means: </strong> Its generally good to make sure that the each class has one main job to do. Each job or class can have multiple lines of code but generally should be performing one action. \n",
    "\n",
    "* one Class --------> one action   <strong style=\"color: green\">IDEAL</strong>\n",
    "    \n",
    "* one action <-------- one Class --------> another action <strong style=\"color: #ff0000\">NOT IDEAL</strong>\n",
    "    "
   ]
  },
  {
   "cell_type": "markdown",
   "metadata": {},
   "source": [
    "Examples of violations:"
   ]
  },
  {
   "cell_type": "markdown",
   "metadata": {},
   "source": [
    "        click to view\n",
    "<!-- ```python \n",
    "# Example 1.\n",
    "class aJob():\n",
    "    # my job is to do the one job i have to do. \n",
    "    my_job = [] # eg. fill entires in major database \n",
    "    # ... \n",
    "    am_I_in_violation = \"False\"\n",
    "    print(\" Am I in Violation? Answer = \",am_I_in_violation)\n",
    "   \n",
    "```\n",
    "    Output: Am I in Violation? Answer = False\n",
    "    -->\n",
    "  "
   ]
  },
  {
   "cell_type": "markdown",
   "metadata": {},
   "source": [
    "        click to view\n",
    "<!--\n",
    "```python \n",
    "# Example 2.\n",
    " class aJob():\n",
    "            # my job is to do the one job i have to do. \n",
    "            my_job = [] # eg. fill entires in major database \n",
    "            # ...\n",
    "            # but I also count entries and edit another database \n",
    "            my_other_job = \"a violation\"\n",
    "            \n",
    "            if my_other_job = \"a violation\":\n",
    "                am_I_in_violation = \"True\"\n",
    "                \n",
    "            print(\" Am I in Violation? Answer = \",am_I_in_violation)\n",
    "                \n",
    "               ```\n",
    "                  Output:Am I in Violation? Answer = TRUE-->"
   ]
  },
  {
   "cell_type": "markdown",
   "metadata": {},
   "source": [
    "### Lets take a look at your question again: PART 1"
   ]
  },
  {
   "cell_type": "markdown",
   "metadata": {},
   "source": [
    "<img src = \"img_01.png \" />\n"
   ]
  },
  {
   "cell_type": "markdown",
   "metadata": {},
   "source": [
    "### Takeaway 1 : make sure the classes you write perform only one major task. "
   ]
  },
  {
   "cell_type": "markdown",
   "metadata": {},
   "source": [
    "<img src = \"img_02.png \" />"
   ]
  },
  {
   "cell_type": "markdown",
   "metadata": {},
   "source": [
    "### Takeaway 2 : your professor did a marvelous job showing just how confusing badly written code can be. In future assignments hes gonna try to throw another curve ball. "
   ]
  },
  {
   "cell_type": "code",
   "execution_count": null,
   "metadata": {},
   "outputs": [],
   "source": []
  },
  {
   "cell_type": "code",
   "execution_count": null,
   "metadata": {},
   "outputs": [],
   "source": []
  },
  {
   "cell_type": "markdown",
   "metadata": {},
   "source": [
    "\n",
    " \n",
    "Single responsibility & Open/closed\n",
    "https://repl.it/@rock/AbleElderlyKnowledge-1#main.py \n",
    "In this project a single gradebook class is responsible for updating grades, loading from/saving to a file, and calculating the letter grade. This violates the single responsibility principle. In my solution I create 2 separate classes for memory resident updates and file access, and a function for applying the grading scale.\n",
    "The Python documentation on files is here: https://docs.python.org/3/tutorial/inputoutput.html#reading-and-writing-files \n",
    "The grading scale has another problem, any time the scale needs to be modified I must modify the class, violating open/closed. This can be solved by using a list of tuples of the form (start, end, letter). When a grading scale object is initialized this list is provided, and rather than an if-elif block to pick the letter grade, we write a loop to check the intervals. The first matching interval returns its letter grade.\n",
    "Liskov substitution\n",
    "https://repl.it/@rock/AnnualMixedDeveloper#main.py \n",
    "This is the canonical example for Liskov substitution. A Square class is derived from Rectangle. All of Rectangle's methods are either used by Square or overridden to make sense for Square. The mutators for square need to update both length and width, since that is the defining property of a square. However, doing this violates a somewhat esoteric invariant of Rectangles: in a Rectangle, if you double the length, the area is doubled. In a Square, if you double the length, the area is quadrupled.\n",
    "How can we get code reuse (primarily from area) without using inheritance?\n",
    "Have a Square use it's own init, with setSide and getSide. But instead of a side length for its datamember, have each Square contain a Rectangle. Changing a side will cause both the length and width of the inner rectangle to change, and Square can just return its rectangle's area as its own. Since square is not derived from rectangle, the fact that it quadruples area when side length is doubled does not violate Liskov substitution."
   ]
  },
  {
   "cell_type": "code",
   "execution_count": null,
   "metadata": {},
   "outputs": [],
   "source": [
    "gb=GradeBook()"
   ]
  },
  {
   "cell_type": "code",
   "execution_count": 3,
   "metadata": {},
   "outputs": [],
   "source": [
    "# -------------------------------## -------------------------------#\n",
    "# -------------------------------## -------------------------------#\n",
    "# CLASS FOR FILE ACCESS METHODS\n",
    "class FileAccess():\n",
    "    #file access methods\n",
    "    def __init__(self):\n",
    "        self.gb = GradeBook()\n",
    "    \n",
    "    def load(self,fileName):\n",
    "    #load a gradebook from a file into memory\n",
    "    #each line should have a name and score\n",
    "    #lines with invalid data or which are for existing students are ignored.\n",
    "        st = open(fileName)\n",
    "        return self\n",
    "        \n",
    "        for line in st:\n",
    "            student = line.split()\n",
    "            self.gb[student[0]]=student[1]\n",
    "            st.close()\n",
    "\n",
    "    def store(self,fileName):\n",
    "        st = open(fileName,\"w\")\n",
    "        for name in self.gb.keys():\n",
    "            st.write(name+\" \"+self.gb[name]+\"\\n\")\n",
    "        st.close()\n",
    "    \n",
    "    \n",
    "  \n",
    "# -------------------------------## -------------------------------#\n",
    "class GradeBook():\n",
    "    def __init__(self):\n",
    "        self.gb = {}\n",
    "\n",
    "    #grading method, could be its own function as above\n",
    "    def letter(self,grade):\n",
    "        ret = 'N/A'\n",
    "        if grade >= 0 and grade < 50:\n",
    "            ret = \"F\"\n",
    "        if grade >= 50 and grade < 80:\n",
    "            ret = \"C\"\n",
    "        if grade >= 80 and grade <101:\n",
    "            ret = \"A\"\n",
    "        return ret \n",
    "\n",
    "\n",
    "\n",
    "    #memory resident methods\n",
    "    def update(self,userName,score):\n",
    "        #change the score for the user--if the user does not exist, add\n",
    "        self.gb[userName]=str(score)\n",
    "\n",
    "    def delete(self,userName):\n",
    "        #remove the given user\n",
    "        self.gb.pop(userName,0)\n",
    "  \n",
    "    def display(self):\n",
    "        for student in self.gb.keys():\n",
    "            print(student,self.gb[student],self.letter(int(self.gb[student])))"
   ]
  },
  {
   "cell_type": "code",
   "execution_count": null,
   "metadata": {},
   "outputs": [],
   "source": []
  }
 ],
 "metadata": {
  "kernelspec": {
   "display_name": "Python 3",
   "language": "python",
   "name": "python3"
  },
  "language_info": {
   "codemirror_mode": {
    "name": "ipython",
    "version": 3
   },
   "file_extension": ".py",
   "mimetype": "text/x-python",
   "name": "python",
   "nbconvert_exporter": "python",
   "pygments_lexer": "ipython3",
   "version": "3.7.6"
  }
 },
 "nbformat": 4,
 "nbformat_minor": 4
}
