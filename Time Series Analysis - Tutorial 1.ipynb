{
 "cells": [
  {
   "cell_type": "markdown",
   "metadata": {},
   "source": [
    "# Time Series Analysis - Tutorial 1"
   ]
  },
  {
   "cell_type": "markdown",
   "metadata": {},
   "source": [
    "Import necessary packages for data manipulation and visualization. Pandas is a data analysis and manipulation tool. \n",
    "\n",
    "Time Series analysis deals with how time series data behaves over time such as trends, seasonality, variation, cycles and irregulaties.\n",
    "\n",
    "Data is collected from real life events and is analysze using statistical methods to help make informed predictions of future values\n",
    "\n",
    "A time series is a set of numerical mesurements of the same type cllected at equaly spaced intervals over time. \n",
    "\n",
    "Examples of time series\n",
    "- average monthly temperature\n",
    "- annual profit \n",
    "- daily gas prices"
   ]
  },
  {
   "cell_type": "code",
   "execution_count": 106,
   "metadata": {},
   "outputs": [],
   "source": [
    "import pandas as pd\n",
    "import matplotlib.pyplot as plt\n",
    "%matplotlib inline"
   ]
  },
  {
   "cell_type": "markdown",
   "metadata": {},
   "source": [
    "Loading the data file. \n",
    "Pandas is able to read .csv, .json . html, .hdf, .sql and other file formats.\n",
    "\n",
    "pd.read_csv can read in a file name or a dataset."
   ]
  },
  {
   "cell_type": "code",
   "execution_count": 53,
   "metadata": {},
   "outputs": [],
   "source": [
    "f_birth = pd.read_csv('total_female_births.csv', index_col=[0], parse_dates=[0] ,squeeze=True)"
   ]
  },
  {
   "cell_type": "code",
   "execution_count": 54,
   "metadata": {},
   "outputs": [
    {
     "data": {
      "text/html": [
       "<div>\n",
       "<style scoped>\n",
       "    .dataframe tbody tr th:only-of-type {\n",
       "        vertical-align: middle;\n",
       "    }\n",
       "\n",
       "    .dataframe tbody tr th {\n",
       "        vertical-align: top;\n",
       "    }\n",
       "\n",
       "    .dataframe thead th {\n",
       "        text-align: right;\n",
       "    }\n",
       "</style>\n",
       "<table border=\"1\" class=\"dataframe\">\n",
       "  <thead>\n",
       "    <tr style=\"text-align: right;\">\n",
       "      <th></th>\n",
       "      <th>date</th>\n",
       "      <th>births</th>\n",
       "    </tr>\n",
       "  </thead>\n",
       "  <tbody>\n",
       "    <tr>\n",
       "      <th>1</th>\n",
       "      <td>2015-01-01</td>\n",
       "      <td>8068</td>\n",
       "    </tr>\n",
       "    <tr>\n",
       "      <th>2</th>\n",
       "      <td>2015-01-02</td>\n",
       "      <td>10850</td>\n",
       "    </tr>\n",
       "    <tr>\n",
       "      <th>3</th>\n",
       "      <td>2015-01-03</td>\n",
       "      <td>8328</td>\n",
       "    </tr>\n",
       "    <tr>\n",
       "      <th>4</th>\n",
       "      <td>2015-01-04</td>\n",
       "      <td>7065</td>\n",
       "    </tr>\n",
       "    <tr>\n",
       "      <th>5</th>\n",
       "      <td>2015-01-05</td>\n",
       "      <td>11892</td>\n",
       "    </tr>\n",
       "  </tbody>\n",
       "</table>\n",
       "</div>"
      ],
      "text/plain": [
       "         date  births\n",
       "1  2015-01-01    8068\n",
       "2  2015-01-02   10850\n",
       "3  2015-01-03    8328\n",
       "4  2015-01-04    7065\n",
       "5  2015-01-05   11892"
      ]
     },
     "execution_count": 54,
     "metadata": {},
     "output_type": "execute_result"
    }
   ],
   "source": [
    "f_birth.head()"
   ]
  },
  {
   "cell_type": "code",
   "execution_count": 55,
   "metadata": {},
   "outputs": [
    {
     "data": {
      "text/plain": [
       "pandas.core.frame.DataFrame"
      ]
     },
     "execution_count": 55,
     "metadata": {},
     "output_type": "execute_result"
    }
   ],
   "source": [
    "type(f_birth)"
   ]
  },
  {
   "cell_type": "code",
   "execution_count": 56,
   "metadata": {},
   "outputs": [],
   "source": [
    "series_value = f_birth.values# data frame is easier than working with series#you can always convert data frame to series "
   ]
  },
  {
   "cell_type": "code",
   "execution_count": 73,
   "metadata": {},
   "outputs": [
    {
     "data": {
      "text/plain": [
       "array([['2015-01-01', 8068],\n",
       "       ['2015-01-02', 10850],\n",
       "       ['2015-01-03', 8328],\n",
       "       ['2015-01-04', 7065],\n",
       "       ['2015-01-05', 11892],\n",
       "       ['2015-01-06', 12425],\n",
       "       ['2015-01-07', 12141],\n",
       "       ['2015-01-08', 12094],\n",
       "       ['2015-01-09', 11868],\n",
       "       ['2015-01-10', 8014],\n",
       "       ['2015-01-11', 7172],\n",
       "       ['2015-01-12', 11479],\n",
       "       ['2015-01-13', 11924],\n",
       "       ['2015-01-14', 12013],\n",
       "       ['2015-01-15', 12339],\n",
       "       ['2015-01-16', 11861],\n",
       "       ['2015-01-17', 8280],\n",
       "       ['2015-01-18', 7195],\n",
       "       ['2015-01-19', 10602],\n",
       "       ['2015-01-20', 12242],\n",
       "       ['2015-01-21', 12086],\n",
       "       ['2015-01-22', 11949],\n",
       "       ['2015-01-23', 11910],\n",
       "       ['2015-01-24', 8235],\n",
       "       ['2015-01-25', 7186],\n",
       "       ['2015-01-26', 11728],\n",
       "       ['2015-01-27', 11882],\n",
       "       ['2015-01-28', 11602],\n",
       "       ['2015-01-29', 11967],\n",
       "       ['2015-01-30', 11571],\n",
       "       ['2015-01-31', 7987],\n",
       "       ['2015-02-01', 7139],\n",
       "       ['2015-02-02', 11480],\n",
       "       ['2015-02-03', 12079],\n",
       "       ['2015-02-04', 11924],\n",
       "       ['2015-02-05', 11821],\n",
       "       ['2015-02-06', 11656],\n",
       "       ['2015-02-07', 8285],\n",
       "       ['2015-02-08', 7265],\n",
       "       ['2015-02-09', 11937],\n",
       "       ['2015-02-10', 12291],\n",
       "       ['2015-02-11', 11911],\n",
       "       ['2015-02-12', 12285],\n",
       "       ['2015-02-13', 11321],\n",
       "       ['2015-02-14', 8390],\n",
       "       ['2015-02-15', 7508],\n",
       "       ['2015-02-16', 11038],\n",
       "       ['2015-02-17', 11952],\n",
       "       ['2015-02-18', 12061],\n",
       "       ['2015-02-19', 11968],\n",
       "       ['2015-02-20', 11864],\n",
       "       ['2015-02-21', 8343],\n",
       "       ['2015-02-22', 7254],\n",
       "       ['2015-02-23', 11260],\n",
       "       ['2015-02-24', 11941],\n",
       "       ['2015-02-25', 11828],\n",
       "       ['2015-02-26', 11672],\n",
       "       ['2015-02-27', 11596],\n",
       "       ['2015-02-28', 7989],\n",
       "       ['2015-03-01', 7273],\n",
       "       ['2015-03-02', 11609],\n",
       "       ['2015-03-03', 12402],\n",
       "       ['2015-03-04', 11927],\n",
       "       ['2015-03-05', 11681],\n",
       "       ['2015-03-06', 11612],\n",
       "       ['2015-03-07', 7980],\n",
       "       ['2015-03-08', 6929],\n",
       "       ['2015-03-09', 11678],\n",
       "       ['2015-03-10', 12282],\n",
       "       ['2015-03-11', 11850],\n",
       "       ['2015-03-12', 12042],\n",
       "       ['2015-03-13', 10940],\n",
       "       ['2015-03-14', 8217],\n",
       "       ['2015-03-15', 7202],\n",
       "       ['2015-03-16', 11537],\n",
       "       ['2015-03-17', 12312],\n",
       "       ['2015-03-18', 11807],\n",
       "       ['2015-03-19', 11721],\n",
       "       ['2015-03-20', 12040],\n",
       "       ['2015-03-21', 8080],\n",
       "       ['2015-03-22', 7171],\n",
       "       ['2015-03-23', 11674],\n",
       "       ['2015-03-24', 12333],\n",
       "       ['2015-03-25', 11872],\n",
       "       ['2015-03-26', 12065],\n",
       "       ['2015-03-27', 11629],\n",
       "       ['2015-03-28', 8071],\n",
       "       ['2015-03-29', 7125],\n",
       "       ['2015-03-30', 11500],\n",
       "       ['2015-03-31', 12362],\n",
       "       ['2015-04-01', 11596],\n",
       "       ['2015-04-02', 12296],\n",
       "       ['2015-04-03', 11234],\n",
       "       ['2015-04-04', 7981],\n",
       "       ['2015-04-05', 6821],\n",
       "       ['2015-04-06', 11455],\n",
       "       ['2015-04-07', 12334],\n",
       "       ['2015-04-08', 11976],\n",
       "       ['2015-04-09', 11874],\n",
       "       ['2015-04-10', 11724],\n",
       "       ['2015-04-11', 8092],\n",
       "       ['2015-04-12', 7141],\n",
       "       ['2015-04-13', 11503],\n",
       "       ['2015-04-14', 12309],\n",
       "       ['2015-04-15', 11794],\n",
       "       ['2015-04-16', 11947],\n",
       "       ['2015-04-17', 11718],\n",
       "       ['2015-04-18', 8028],\n",
       "       ['2015-04-19', 7180],\n",
       "       ['2015-04-20', 11513],\n",
       "       ['2015-04-21', 12173],\n",
       "       ['2015-04-22', 11917],\n",
       "       ['2015-04-23', 11877],\n",
       "       ['2015-04-24', 11749],\n",
       "       ['2015-04-25', 8101],\n",
       "       ['2015-04-26', 7178],\n",
       "       ['2015-04-27', 11494],\n",
       "       ['2015-04-28', 12221],\n",
       "       ['2015-04-29', 11775],\n",
       "       ['2015-04-30', 11831],\n",
       "       ['2015-05-01', 12178],\n",
       "       ['2015-05-02', 8075],\n",
       "       ['2015-05-03', 7195],\n",
       "       ['2015-05-04', 11724],\n",
       "       ['2015-05-05', 12618],\n",
       "       ['2015-05-06', 11924],\n",
       "       ['2015-05-07', 11649],\n",
       "       ['2015-05-08', 11810],\n",
       "       ['2015-05-09', 8216],\n",
       "       ['2015-05-10', 7246],\n",
       "       ['2015-05-11', 11549],\n",
       "       ['2015-05-12', 12400],\n",
       "       ['2015-05-13', 11572],\n",
       "       ['2015-05-14', 11793],\n",
       "       ['2015-05-15', 12306],\n",
       "       ['2015-05-16', 8337],\n",
       "       ['2015-05-17', 7354],\n",
       "       ['2015-05-18', 11708],\n",
       "       ['2015-05-19', 12469],\n",
       "       ['2015-05-20', 12352],\n",
       "       ['2015-05-21', 12246],\n",
       "       ['2015-05-22', 12147],\n",
       "       ['2015-05-23', 8267],\n",
       "       ['2015-05-24', 7261],\n",
       "       ['2015-05-25', 7746],\n",
       "       ['2015-05-26', 12242],\n",
       "       ['2015-05-27', 12845],\n",
       "       ['2015-05-28', 12722],\n",
       "       ['2015-05-29', 12168],\n",
       "       ['2015-05-30', 8431],\n",
       "       ['2015-05-31', 7367],\n",
       "       ['2015-06-01', 11793],\n",
       "       ['2015-06-02', 11994],\n",
       "       ['2015-06-03', 11890],\n",
       "       ['2015-06-04', 11918],\n",
       "       ['2015-06-05', 12303],\n",
       "       ['2015-06-06', 8313],\n",
       "       ['2015-06-07', 7230],\n",
       "       ['2015-06-08', 11938],\n",
       "       ['2015-06-09', 12479],\n",
       "       ['2015-06-10', 12123],\n",
       "       ['2015-06-11', 12029],\n",
       "       ['2015-06-12', 12064],\n",
       "       ['2015-06-13', 8104],\n",
       "       ['2015-06-14', 7292],\n",
       "       ['2015-06-15', 12348],\n",
       "       ['2015-06-16', 12400],\n",
       "       ['2015-06-17', 12192],\n",
       "       ['2015-06-18', 12323],\n",
       "       ['2015-06-19', 11767],\n",
       "       ['2015-06-20', 8451],\n",
       "       ['2015-06-21', 7580],\n",
       "       ['2015-06-22', 11883],\n",
       "       ['2015-06-23', 12351],\n",
       "       ['2015-06-24', 12292],\n",
       "       ['2015-06-25', 12416],\n",
       "       ['2015-06-26', 12152],\n",
       "       ['2015-06-27', 8652],\n",
       "       ['2015-06-28', 7371],\n",
       "       ['2015-06-29', 11961],\n",
       "       ['2015-06-30', 12932],\n",
       "       ['2015-07-01', 13033],\n",
       "       ['2015-07-02', 13038],\n",
       "       ['2015-07-03', 10375],\n",
       "       ['2015-07-04', 7944],\n",
       "       ['2015-07-05', 7164],\n",
       "       ['2015-07-06', 12088],\n",
       "       ['2015-07-07', 13426],\n",
       "       ['2015-07-08', 12788],\n",
       "       ['2015-07-09', 12517],\n",
       "       ['2015-07-10', 12396],\n",
       "       ['2015-07-11', 8769],\n",
       "       ['2015-07-12', 7591],\n",
       "       ['2015-07-13', 11835],\n",
       "       ['2015-07-14', 12862],\n",
       "       ['2015-07-15', 12853],\n",
       "       ['2015-07-16', 12502],\n",
       "       ['2015-07-17', 12291],\n",
       "       ['2015-07-18', 8546],\n",
       "       ['2015-07-19', 7681],\n",
       "       ['2015-07-20', 12424],\n",
       "       ['2015-07-21', 13264],\n",
       "       ['2015-07-22', 12519],\n",
       "       ['2015-07-23', 12852],\n",
       "       ['2015-07-24', 12612],\n",
       "       ['2015-07-25', 8748],\n",
       "       ['2015-07-26', 7836],\n",
       "       ['2015-07-27', 12416],\n",
       "       ['2015-07-28', 13240],\n",
       "       ['2015-07-29', 12739],\n",
       "       ['2015-07-30', 12797],\n",
       "       ['2015-07-31', 12269],\n",
       "       ['2015-08-01', 8851],\n",
       "       ['2015-08-02', 7907],\n",
       "       ['2015-08-03', 12449],\n",
       "       ['2015-08-04', 13149],\n",
       "       ['2015-08-05', 12793],\n",
       "       ['2015-08-06', 12872],\n",
       "       ['2015-08-07', 12770],\n",
       "       ['2015-08-08', 8956],\n",
       "       ['2015-08-09', 7726],\n",
       "       ['2015-08-10', 12333],\n",
       "       ['2015-08-11', 13010],\n",
       "       ['2015-08-12', 12960],\n",
       "       ['2015-08-13', 12591],\n",
       "       ['2015-08-14', 12861],\n",
       "       ['2015-08-15', 8938],\n",
       "       ['2015-08-16', 7896],\n",
       "       ['2015-08-17', 12337],\n",
       "       ['2015-08-18', 13197],\n",
       "       ['2015-08-19', 12966],\n",
       "       ['2015-08-20', 13002],\n",
       "       ['2015-08-21', 12834],\n",
       "       ['2015-08-22', 9153],\n",
       "       ['2015-08-23', 7821],\n",
       "       ['2015-08-24', 12274],\n",
       "       ['2015-08-25', 13149],\n",
       "       ['2015-08-26', 12729],\n",
       "       ['2015-08-27', 12829],\n",
       "       ['2015-08-28', 12719],\n",
       "       ['2015-08-29', 8772],\n",
       "       ['2015-08-30', 7805],\n",
       "       ['2015-08-31', 12142],\n",
       "       ['2015-09-01', 13231],\n",
       "       ['2015-09-02', 12799],\n",
       "       ['2015-09-03', 12839],\n",
       "       ['2015-09-04', 12862],\n",
       "       ['2015-09-05', 8950],\n",
       "       ['2015-09-06', 7778],\n",
       "       ['2015-09-07', 8127],\n",
       "       ['2015-09-08', 12823],\n",
       "       ['2015-09-09', 13949],\n",
       "       ['2015-09-10', 13925],\n",
       "       ['2015-09-11', 12295],\n",
       "       ['2015-09-12', 9062],\n",
       "       ['2015-09-13', 7900],\n",
       "       ['2015-09-14', 12699],\n",
       "       ['2015-09-15', 13439],\n",
       "       ['2015-09-16', 13136],\n",
       "       ['2015-09-17', 13319],\n",
       "       ['2015-09-18', 13229],\n",
       "       ['2015-09-19', 9195],\n",
       "       ['2015-09-20', 8078],\n",
       "       ['2015-09-21', 12567],\n",
       "       ['2015-09-22', 13047],\n",
       "       ['2015-09-23', 12595],\n",
       "       ['2015-09-24', 12942],\n",
       "       ['2015-09-25', 12792],\n",
       "       ['2015-09-26', 8927],\n",
       "       ['2015-09-27', 7778],\n",
       "       ['2015-09-28', 12158],\n",
       "       ['2015-09-29', 12791],\n",
       "       ['2015-09-30', 12284],\n",
       "       ['2015-10-01', 13043],\n",
       "       ['2015-10-02', 12399],\n",
       "       ['2015-10-03', 8579],\n",
       "       ['2015-10-04', 7530],\n",
       "       ['2015-10-05', 12166],\n",
       "       ['2015-10-06', 12520],\n",
       "       ['2015-10-07', 12429],\n",
       "       ['2015-10-08', 12458],\n",
       "       ['2015-10-09', 12282],\n",
       "       ['2015-10-10', 8550],\n",
       "       ['2015-10-11', 7571],\n",
       "       ['2015-10-12', 11633],\n",
       "       ['2015-10-13', 12094],\n",
       "       ['2015-10-14', 12205],\n",
       "       ['2015-10-15', 12522],\n",
       "       ['2015-10-16', 11917],\n",
       "       ['2015-10-17', 8233],\n",
       "       ['2015-10-18', 7211],\n",
       "       ['2015-10-19', 11388],\n",
       "       ['2015-10-20', 12500],\n",
       "       ['2015-10-21', 12093],\n",
       "       ['2015-10-22', 12013],\n",
       "       ['2015-10-23', 11942],\n",
       "       ['2015-10-24', 8239],\n",
       "       ['2015-10-25', 7288],\n",
       "       ['2015-10-26', 11923],\n",
       "       ['2015-10-27', 12485],\n",
       "       ['2015-10-28', 12266],\n",
       "       ['2015-10-29', 11950],\n",
       "       ['2015-10-30', 11529],\n",
       "       ['2015-10-31', 8049],\n",
       "       ['2015-11-01', 7731],\n",
       "       ['2015-11-02', 12236],\n",
       "       ['2015-11-03', 12524],\n",
       "       ['2015-11-04', 12279],\n",
       "       ['2015-11-05', 12452],\n",
       "       ['2015-11-06', 11909],\n",
       "       ['2015-11-07', 8517],\n",
       "       ['2015-11-08', 7324],\n",
       "       ['2015-11-09', 11688],\n",
       "       ['2015-11-10', 12451],\n",
       "       ['2015-11-11', 12311],\n",
       "       ['2015-11-12', 12329],\n",
       "       ['2015-11-13', 11643],\n",
       "       ['2015-11-14', 8221],\n",
       "       ['2015-11-15', 7378],\n",
       "       ['2015-11-16', 11791],\n",
       "       ['2015-11-17', 12321],\n",
       "       ['2015-11-18', 12230],\n",
       "       ['2015-11-19', 12504],\n",
       "       ['2015-11-20', 12495],\n",
       "       ['2015-11-21', 8392],\n",
       "       ['2015-11-22', 7427],\n",
       "       ['2015-11-23', 12419],\n",
       "       ['2015-11-24', 13051],\n",
       "       ['2015-11-25', 11745],\n",
       "       ['2015-11-26', 7332],\n",
       "       ['2015-11-27', 8942],\n",
       "       ['2015-11-28', 7734],\n",
       "       ['2015-11-29', 7230],\n",
       "       ['2015-11-30', 12214],\n",
       "       ['2015-12-01', 13185],\n",
       "       ['2015-12-02', 12708],\n",
       "       ['2015-12-03', 12281],\n",
       "       ['2015-12-04', 11828],\n",
       "       ['2015-12-05', 8262],\n",
       "       ['2015-12-06', 7194],\n",
       "       ['2015-12-07', 11567],\n",
       "       ['2015-12-08', 12328],\n",
       "       ['2015-12-09', 11857],\n",
       "       ['2015-12-10', 12259],\n",
       "       ['2015-12-11', 11406],\n",
       "       ['2015-12-12', 8073],\n",
       "       ['2015-12-13', 7262],\n",
       "       ['2015-12-14', 11753],\n",
       "       ['2015-12-15', 12437],\n",
       "       ['2015-12-16', 12282],\n",
       "       ['2015-12-17', 12339],\n",
       "       ['2015-12-18', 12247],\n",
       "       ['2015-12-19', 8368],\n",
       "       ['2015-12-20', 7361],\n",
       "       ['2015-12-21', 12692],\n",
       "       ['2015-12-22', 13131],\n",
       "       ['2015-12-23', 11595],\n",
       "       ['2015-12-24', 8714],\n",
       "       ['2015-12-25', 6515],\n",
       "       ['2015-12-26', 7294],\n",
       "       ['2015-12-27', 7518],\n",
       "       ['2015-12-28', 13100],\n",
       "       ['2015-12-29', 13458],\n",
       "       ['2015-12-30', 13100],\n",
       "       ['2015-12-31', 11608]], dtype=object)"
      ]
     },
     "execution_count": 73,
     "metadata": {},
     "output_type": "execute_result"
    }
   ],
   "source": [
    "series_value"
   ]
  },
  {
   "cell_type": "code",
   "execution_count": 57,
   "metadata": {},
   "outputs": [
    {
     "data": {
      "text/plain": [
       "numpy.ndarray"
      ]
     },
     "execution_count": 57,
     "metadata": {},
     "output_type": "execute_result"
    }
   ],
   "source": [
    "type(series_value) "
   ]
  },
  {
   "cell_type": "code",
   "execution_count": 58,
   "metadata": {},
   "outputs": [
    {
     "data": {
      "text/plain": [
       "730"
      ]
     },
     "execution_count": 58,
     "metadata": {},
     "output_type": "execute_result"
    }
   ],
   "source": [
    "f_birth.size"
   ]
  },
  {
   "cell_type": "code",
   "execution_count": 59,
   "metadata": {},
   "outputs": [
    {
     "data": {
      "text/plain": [
       "<bound method NDFrame.tail of            date  births\n",
       "1    2015-01-01    8068\n",
       "2    2015-01-02   10850\n",
       "3    2015-01-03    8328\n",
       "4    2015-01-04    7065\n",
       "5    2015-01-05   11892\n",
       "..          ...     ...\n",
       "361  2015-12-27    7518\n",
       "362  2015-12-28   13100\n",
       "363  2015-12-29   13458\n",
       "364  2015-12-30   13100\n",
       "365  2015-12-31   11608\n",
       "\n",
       "[365 rows x 2 columns]>"
      ]
     },
     "execution_count": 59,
     "metadata": {},
     "output_type": "execute_result"
    }
   ],
   "source": [
    "f_birth.tail"
   ]
  },
  {
   "cell_type": "code",
   "execution_count": 60,
   "metadata": {},
   "outputs": [
    {
     "data": {
      "text/html": [
       "<div>\n",
       "<style scoped>\n",
       "    .dataframe tbody tr th:only-of-type {\n",
       "        vertical-align: middle;\n",
       "    }\n",
       "\n",
       "    .dataframe tbody tr th {\n",
       "        vertical-align: top;\n",
       "    }\n",
       "\n",
       "    .dataframe thead th {\n",
       "        text-align: right;\n",
       "    }\n",
       "</style>\n",
       "<table border=\"1\" class=\"dataframe\">\n",
       "  <thead>\n",
       "    <tr style=\"text-align: right;\">\n",
       "      <th></th>\n",
       "      <th>births</th>\n",
       "    </tr>\n",
       "  </thead>\n",
       "  <tbody>\n",
       "    <tr>\n",
       "      <th>count</th>\n",
       "      <td>365.000000</td>\n",
       "    </tr>\n",
       "    <tr>\n",
       "      <th>mean</th>\n",
       "      <td>10899.991781</td>\n",
       "    </tr>\n",
       "    <tr>\n",
       "      <th>std</th>\n",
       "      <td>2076.683881</td>\n",
       "    </tr>\n",
       "    <tr>\n",
       "      <th>min</th>\n",
       "      <td>6515.000000</td>\n",
       "    </tr>\n",
       "    <tr>\n",
       "      <th>25%</th>\n",
       "      <td>8431.000000</td>\n",
       "    </tr>\n",
       "    <tr>\n",
       "      <th>50%</th>\n",
       "      <td>11883.000000</td>\n",
       "    </tr>\n",
       "    <tr>\n",
       "      <th>75%</th>\n",
       "      <td>12339.000000</td>\n",
       "    </tr>\n",
       "    <tr>\n",
       "      <th>max</th>\n",
       "      <td>13949.000000</td>\n",
       "    </tr>\n",
       "  </tbody>\n",
       "</table>\n",
       "</div>"
      ],
      "text/plain": [
       "             births\n",
       "count    365.000000\n",
       "mean   10899.991781\n",
       "std     2076.683881\n",
       "min     6515.000000\n",
       "25%     8431.000000\n",
       "50%    11883.000000\n",
       "75%    12339.000000\n",
       "max    13949.000000"
      ]
     },
     "execution_count": 60,
     "metadata": {},
     "output_type": "execute_result"
    }
   ],
   "source": [
    "f_birth.describe()"
   ]
  },
  {
   "cell_type": "code",
   "execution_count": 61,
   "metadata": {},
   "outputs": [],
   "source": [
    "f_birth = f_birth[0:365]"
   ]
  },
  {
   "cell_type": "code",
   "execution_count": 62,
   "metadata": {},
   "outputs": [
    {
     "data": {
      "text/html": [
       "<div>\n",
       "<style scoped>\n",
       "    .dataframe tbody tr th:only-of-type {\n",
       "        vertical-align: middle;\n",
       "    }\n",
       "\n",
       "    .dataframe tbody tr th {\n",
       "        vertical-align: top;\n",
       "    }\n",
       "\n",
       "    .dataframe thead th {\n",
       "        text-align: right;\n",
       "    }\n",
       "</style>\n",
       "<table border=\"1\" class=\"dataframe\">\n",
       "  <thead>\n",
       "    <tr style=\"text-align: right;\">\n",
       "      <th></th>\n",
       "      <th>births</th>\n",
       "    </tr>\n",
       "  </thead>\n",
       "  <tbody>\n",
       "    <tr>\n",
       "      <th>count</th>\n",
       "      <td>365.000000</td>\n",
       "    </tr>\n",
       "    <tr>\n",
       "      <th>mean</th>\n",
       "      <td>10899.991781</td>\n",
       "    </tr>\n",
       "    <tr>\n",
       "      <th>std</th>\n",
       "      <td>2076.683881</td>\n",
       "    </tr>\n",
       "    <tr>\n",
       "      <th>min</th>\n",
       "      <td>6515.000000</td>\n",
       "    </tr>\n",
       "    <tr>\n",
       "      <th>25%</th>\n",
       "      <td>8431.000000</td>\n",
       "    </tr>\n",
       "    <tr>\n",
       "      <th>50%</th>\n",
       "      <td>11883.000000</td>\n",
       "    </tr>\n",
       "    <tr>\n",
       "      <th>75%</th>\n",
       "      <td>12339.000000</td>\n",
       "    </tr>\n",
       "    <tr>\n",
       "      <th>max</th>\n",
       "      <td>13949.000000</td>\n",
       "    </tr>\n",
       "  </tbody>\n",
       "</table>\n",
       "</div>"
      ],
      "text/plain": [
       "             births\n",
       "count    365.000000\n",
       "mean   10899.991781\n",
       "std     2076.683881\n",
       "min     6515.000000\n",
       "25%     8431.000000\n",
       "50%    11883.000000\n",
       "75%    12339.000000\n",
       "max    13949.000000"
      ]
     },
     "execution_count": 62,
     "metadata": {},
     "output_type": "execute_result"
    }
   ],
   "source": [
    "f_birth.describe()"
   ]
  },
  {
   "cell_type": "code",
   "execution_count": 63,
   "metadata": {},
   "outputs": [
    {
     "data": {
      "text/plain": [
       "<matplotlib.axes._subplots.AxesSubplot at 0x7ff66b1b9950>"
      ]
     },
     "execution_count": 63,
     "metadata": {},
     "output_type": "execute_result"
    },
    {
     "data": {
      "image/png": "[encoded data removed]",
      "text/plain": [
       "<Figure size 432x288 with 1 Axes>"
      ]
     },
     "metadata": {
      "needs_background": "light"
     },
     "output_type": "display_data"
    }
   ],
   "source": [
    "f_birth.plot()"
   ]
  },
  {
   "cell_type": "code",
   "execution_count": 64,
   "metadata": {},
   "outputs": [],
   "source": [
    "f_birth_mean = f_birth.rolling(window = 20).mean()"
   ]
  },
  {
   "cell_type": "code",
   "execution_count": 65,
   "metadata": {},
   "outputs": [
    {
     "data": {
      "text/plain": [
       "<matplotlib.axes._subplots.AxesSubplot at 0x7ff66b1b2f90>"
      ]
     },
     "execution_count": 65,
     "metadata": {},
     "output_type": "execute_result"
    },
    {
     "data": {
      "image/png": "[encoded data removed]",
      "text/plain": [
       "<Figure size 432x288 with 1 Axes>"
      ]
     },
     "metadata": {
      "needs_background": "light"
     },
     "output_type": "display_data"
    }
   ],
   "source": [
    "f_birth_mean.plot()"
   ]
  },
  {
   "cell_type": "code",
   "execution_count": 109,
   "metadata": {},
   "outputs": [
    {
     "data": {
      "text/plain": [
       "<matplotlib.axes._subplots.AxesSubplot at 0x7ff658143b50>"
      ]
     },
     "execution_count": 109,
     "metadata": {},
     "output_type": "execute_result"
    },
    {
     "data": {
      "image/png": "[encoded data removed]",
      "text/plain": [
       "<Figure size 432x288 with 1 Axes>"
      ]
     },
     "metadata": {
      "needs_background": "light"
     },
     "output_type": "display_data"
    }
   ],
   "source": [
    "f_birth_mean = f_birth.rolling(window = 50).mean()\n",
    "f_birth_mean.plot()\n"
   ]
  },
  {
   "cell_type": "code",
   "execution_count": 81,
   "metadata": {},
   "outputs": [],
   "source": [
    "value = pd.DataFrame(series_value[:,1]) #need to convert to data frame to let pd.cpncat work"
   ]
  },
  {
   "cell_type": "code",
   "execution_count": 82,
   "metadata": {},
   "outputs": [],
   "source": [
    "birth_df = pd.concat([value, value.shift(1)], axis = 1)#two series to one dataframe renamned series_vale to value after type change"
   ]
  },
  {
   "cell_type": "code",
   "execution_count": 83,
   "metadata": {},
   "outputs": [
    {
     "data": {
      "text/html": [
       "<div>\n",
       "<style scoped>\n",
       "    .dataframe tbody tr th:only-of-type {\n",
       "        vertical-align: middle;\n",
       "    }\n",
       "\n",
       "    .dataframe tbody tr th {\n",
       "        vertical-align: top;\n",
       "    }\n",
       "\n",
       "    .dataframe thead th {\n",
       "        text-align: right;\n",
       "    }\n",
       "</style>\n",
       "<table border=\"1\" class=\"dataframe\">\n",
       "  <thead>\n",
       "    <tr style=\"text-align: right;\">\n",
       "      <th></th>\n",
       "      <th>0</th>\n",
       "      <th>0</th>\n",
       "    </tr>\n",
       "  </thead>\n",
       "  <tbody>\n",
       "    <tr>\n",
       "      <th>0</th>\n",
       "      <td>8068</td>\n",
       "      <td>NaN</td>\n",
       "    </tr>\n",
       "    <tr>\n",
       "      <th>1</th>\n",
       "      <td>10850</td>\n",
       "      <td>8068</td>\n",
       "    </tr>\n",
       "    <tr>\n",
       "      <th>2</th>\n",
       "      <td>8328</td>\n",
       "      <td>10850</td>\n",
       "    </tr>\n",
       "    <tr>\n",
       "      <th>3</th>\n",
       "      <td>7065</td>\n",
       "      <td>8328</td>\n",
       "    </tr>\n",
       "    <tr>\n",
       "      <th>4</th>\n",
       "      <td>11892</td>\n",
       "      <td>7065</td>\n",
       "    </tr>\n",
       "  </tbody>\n",
       "</table>\n",
       "</div>"
      ],
      "text/plain": [
       "       0      0\n",
       "0   8068    NaN\n",
       "1  10850   8068\n",
       "2   8328  10850\n",
       "3   7065   8328\n",
       "4  11892   7065"
      ]
     },
     "execution_count": 83,
     "metadata": {},
     "output_type": "execute_result"
    }
   ],
   "source": [
    "birth_df.head()"
   ]
  },
  {
   "cell_type": "code",
   "execution_count": 84,
   "metadata": {},
   "outputs": [],
   "source": [
    "birth_df.columns = ['Actual_birth', 'Forecast_birth']"
   ]
  },
  {
   "cell_type": "code",
   "execution_count": 85,
   "metadata": {},
   "outputs": [],
   "source": [
    "#identify error present in this \n",
    "# figure error on completet data set or train test - a naive model\n"
   ]
  },
  {
   "cell_type": "code",
   "execution_count": 88,
   "metadata": {},
   "outputs": [],
   "source": [
    "from sklearn.metrics import mean_squared_error #To calculate error import mean square error model\n",
    "import numpy as np"
   ]
  },
  {
   "cell_type": "code",
   "execution_count": 90,
   "metadata": {},
   "outputs": [],
   "source": [
    "birth_test = birth_df[1:]"
   ]
  },
  {
   "cell_type": "code",
   "execution_count": 91,
   "metadata": {},
   "outputs": [
    {
     "data": {
      "text/html": [
       "<div>\n",
       "<style scoped>\n",
       "    .dataframe tbody tr th:only-of-type {\n",
       "        vertical-align: middle;\n",
       "    }\n",
       "\n",
       "    .dataframe tbody tr th {\n",
       "        vertical-align: top;\n",
       "    }\n",
       "\n",
       "    .dataframe thead th {\n",
       "        text-align: right;\n",
       "    }\n",
       "</style>\n",
       "<table border=\"1\" class=\"dataframe\">\n",
       "  <thead>\n",
       "    <tr style=\"text-align: right;\">\n",
       "      <th></th>\n",
       "      <th>Actual_birth</th>\n",
       "      <th>Forecast_birth</th>\n",
       "    </tr>\n",
       "  </thead>\n",
       "  <tbody>\n",
       "    <tr>\n",
       "      <th>1</th>\n",
       "      <td>10850</td>\n",
       "      <td>8068</td>\n",
       "    </tr>\n",
       "    <tr>\n",
       "      <th>2</th>\n",
       "      <td>8328</td>\n",
       "      <td>10850</td>\n",
       "    </tr>\n",
       "    <tr>\n",
       "      <th>3</th>\n",
       "      <td>7065</td>\n",
       "      <td>8328</td>\n",
       "    </tr>\n",
       "    <tr>\n",
       "      <th>4</th>\n",
       "      <td>11892</td>\n",
       "      <td>7065</td>\n",
       "    </tr>\n",
       "    <tr>\n",
       "      <th>5</th>\n",
       "      <td>12425</td>\n",
       "      <td>11892</td>\n",
       "    </tr>\n",
       "  </tbody>\n",
       "</table>\n",
       "</div>"
      ],
      "text/plain": [
       "  Actual_birth Forecast_birth\n",
       "1        10850           8068\n",
       "2         8328          10850\n",
       "3         7065           8328\n",
       "4        11892           7065\n",
       "5        12425          11892"
      ]
     },
     "execution_count": 91,
     "metadata": {},
     "output_type": "execute_result"
    }
   ],
   "source": [
    "birth_test.head()"
   ]
  },
  {
   "cell_type": "code",
   "execution_count": 98,
   "metadata": {},
   "outputs": [],
   "source": [
    "birth_test = birth_test[0:364]"
   ]
  },
  {
   "cell_type": "code",
   "execution_count": 99,
   "metadata": {},
   "outputs": [
    {
     "data": {
      "text/html": [
       "<div>\n",
       "<style scoped>\n",
       "    .dataframe tbody tr th:only-of-type {\n",
       "        vertical-align: middle;\n",
       "    }\n",
       "\n",
       "    .dataframe tbody tr th {\n",
       "        vertical-align: top;\n",
       "    }\n",
       "\n",
       "    .dataframe thead th {\n",
       "        text-align: right;\n",
       "    }\n",
       "</style>\n",
       "<table border=\"1\" class=\"dataframe\">\n",
       "  <thead>\n",
       "    <tr style=\"text-align: right;\">\n",
       "      <th></th>\n",
       "      <th>Actual_birth</th>\n",
       "      <th>Forecast_birth</th>\n",
       "    </tr>\n",
       "  </thead>\n",
       "  <tbody>\n",
       "    <tr>\n",
       "      <th>2</th>\n",
       "      <td>8328</td>\n",
       "      <td>10850</td>\n",
       "    </tr>\n",
       "    <tr>\n",
       "      <th>3</th>\n",
       "      <td>7065</td>\n",
       "      <td>8328</td>\n",
       "    </tr>\n",
       "    <tr>\n",
       "      <th>4</th>\n",
       "      <td>11892</td>\n",
       "      <td>7065</td>\n",
       "    </tr>\n",
       "    <tr>\n",
       "      <th>5</th>\n",
       "      <td>12425</td>\n",
       "      <td>11892</td>\n",
       "    </tr>\n",
       "    <tr>\n",
       "      <th>6</th>\n",
       "      <td>12141</td>\n",
       "      <td>12425</td>\n",
       "    </tr>\n",
       "  </tbody>\n",
       "</table>\n",
       "</div>"
      ],
      "text/plain": [
       "  Actual_birth Forecast_birth\n",
       "2         8328          10850\n",
       "3         7065           8328\n",
       "4        11892           7065\n",
       "5        12425          11892\n",
       "6        12141          12425"
      ]
     },
     "execution_count": 99,
     "metadata": {},
     "output_type": "execute_result"
    }
   ],
   "source": [
    "birth_test.head()"
   ]
  },
  {
   "cell_type": "code",
   "execution_count": 100,
   "metadata": {},
   "outputs": [
    {
     "data": {
      "text/html": [
       "<div>\n",
       "<style scoped>\n",
       "    .dataframe tbody tr th:only-of-type {\n",
       "        vertical-align: middle;\n",
       "    }\n",
       "\n",
       "    .dataframe tbody tr th {\n",
       "        vertical-align: top;\n",
       "    }\n",
       "\n",
       "    .dataframe thead th {\n",
       "        text-align: right;\n",
       "    }\n",
       "</style>\n",
       "<table border=\"1\" class=\"dataframe\">\n",
       "  <thead>\n",
       "    <tr style=\"text-align: right;\">\n",
       "      <th></th>\n",
       "      <th>Actual_birth</th>\n",
       "      <th>Forecast_birth</th>\n",
       "    </tr>\n",
       "  </thead>\n",
       "  <tbody>\n",
       "    <tr>\n",
       "      <th>360</th>\n",
       "      <td>7518</td>\n",
       "      <td>7294</td>\n",
       "    </tr>\n",
       "    <tr>\n",
       "      <th>361</th>\n",
       "      <td>13100</td>\n",
       "      <td>7518</td>\n",
       "    </tr>\n",
       "    <tr>\n",
       "      <th>362</th>\n",
       "      <td>13458</td>\n",
       "      <td>13100</td>\n",
       "    </tr>\n",
       "    <tr>\n",
       "      <th>363</th>\n",
       "      <td>13100</td>\n",
       "      <td>13458</td>\n",
       "    </tr>\n",
       "    <tr>\n",
       "      <th>364</th>\n",
       "      <td>11608</td>\n",
       "      <td>13100</td>\n",
       "    </tr>\n",
       "  </tbody>\n",
       "</table>\n",
       "</div>"
      ],
      "text/plain": [
       "    Actual_birth Forecast_birth\n",
       "360         7518           7294\n",
       "361        13100           7518\n",
       "362        13458          13100\n",
       "363        13100          13458\n",
       "364        11608          13100"
      ]
     },
     "execution_count": 100,
     "metadata": {},
     "output_type": "execute_result"
    }
   ],
   "source": [
    "birth_test.tail()"
   ]
  },
  {
   "cell_type": "code",
   "execution_count": 101,
   "metadata": {},
   "outputs": [],
   "source": [
    "birth_error = mean_squared_error(birth_test.Actual_birth,birth_test.Forecast_birth)"
   ]
  },
  {
   "cell_type": "code",
   "execution_count": 107,
   "metadata": {},
   "outputs": [
    {
     "data": {
      "text/plain": [
       "5155304.071625344"
      ]
     },
     "execution_count": 107,
     "metadata": {},
     "output_type": "execute_result"
    }
   ],
   "source": [
    "birth_error "
   ]
  },
  {
   "cell_type": "code",
   "execution_count": 103,
   "metadata": {},
   "outputs": [
    {
     "data": {
      "text/plain": [
       "2270.5294694465747"
      ]
     },
     "execution_count": 103,
     "metadata": {},
     "output_type": "execute_result"
    }
   ],
   "source": [
    "np.sqrt(birth_error )"
   ]
  },
  {
   "cell_type": "code",
   "execution_count": 105,
   "metadata": {},
   "outputs": [],
   "source": [
    "#ARIMA Autoregressive(p) Integrated (d) Moving average(q)"
   ]
  },
  {
   "cell_type": "code",
   "execution_count": null,
   "metadata": {},
   "outputs": [],
   "source": []
  },
  {
   "cell_type": "code",
   "execution_count": null,
   "metadata": {},
   "outputs": [],
   "source": []
  }
 ],
 "metadata": {
  "kernelspec": {
   "display_name": "Python 3",
   "language": "python",
   "name": "python3"
  },
  "language_info": {
   "codemirror_mode": {
    "name": "ipython",
    "version": 3
   },
   "file_extension": ".py",
   "mimetype": "text/x-python",
   "name": "python",
   "nbconvert_exporter": "python",
   "pygments_lexer": "ipython3",
   "version": "3.7.6"
  }
 },
 "nbformat": 4,
 "nbformat_minor": 4
}
